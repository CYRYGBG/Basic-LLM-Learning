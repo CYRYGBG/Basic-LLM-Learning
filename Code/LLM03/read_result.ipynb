{
 "cells": [
  {
   "cell_type": "code",
   "execution_count": null,
   "metadata": {},
   "outputs": [
    {
     "name": "stdout",
     "output_type": "stream",
     "text": [
      "Model Weights Used:  D:\\04.Code\\model\\Qwen2.5-1.5B\n",
      "|     Filter     |n-shot|  Metric   |Value |   |Stderr|\n",
      "|----------------|-----:|-----------|-----:|---|-----:|\n",
      "|strict-match    |     5|exact_match|0.6179| ± |0.0134|\n",
      "|flexible-extract|     5|exact_match|0.6224| ± |0.0134|\n"
     ]
    }
   ],
   "source": [
    "import json\n",
    "\n",
    "# 加载 JSON 文件\n",
    "result_path = r'D:\\06.学习资料\\llm course\\Basic-LLM-Learning\\Code\\LLM03\\eval_results\\results_2025-02-09T23-51-09.236971.json'\n",
    "with open(result_path, \"r\") as f:\n",
    "    results = json.load(f)\n",
    "\n",
    "# 提取任务结果\n",
    "task_name = \"gsm8k\"\n",
    "task_results = results[\"results\"][task_name]\n",
    "task_args = results[\"config\"][\"model_args\"]\n",
    "n_shot = results[\"configs\"][task_name][\"num_fewshot\"]\n",
    "\n",
    "# 创建格式化表格\n",
    "header =    \"|     Filter     |n-shot|  Metric   |Value |   |Stderr|\"\n",
    "separator = \"|----------------|-----:|-----------|-----:|---|-----:|\"\n",
    "rows = []\n",
    "\n",
    "\n",
    "rows.append(\n",
    "    f\"|strict-match    |{n_shot:6}|exact_match|{task_results['exact_match,strict-match']:.4f}| ± |{task_results['exact_match_stderr,strict-match']:.4f}|\"\n",
    ")\n",
    "rows.append(\n",
    "    f\"|flexible-extract|{n_shot:6}|exact_match|{task_results['exact_match,flexible-extract']:.4f}| ± |{task_results['exact_match_stderr,flexible-extract']:.4f}|\"\n",
    ")\n",
    "\n",
    "\n",
    "# 打印输出\n",
    "print(\"Model Weights Used: \", task_args.split('=')[1])\n",
    "print(\"\\n\".join([header, separator] + rows))\n"
   ]
  },
  {
   "cell_type": "code",
   "execution_count": null,
   "metadata": {},
   "outputs": [],
   "source": []
  }
 ],
 "metadata": {
  "kernelspec": {
   "display_name": "Python 3",
   "language": "python",
   "name": "python3"
  },
  "language_info": {
   "codemirror_mode": {
    "name": "ipython",
    "version": 3
   },
   "file_extension": ".py",
   "mimetype": "text/x-python",
   "name": "python",
   "nbconvert_exporter": "python",
   "pygments_lexer": "ipython3",
   "version": "3.10.16"
  }
 },
 "nbformat": 4,
 "nbformat_minor": 2
}
