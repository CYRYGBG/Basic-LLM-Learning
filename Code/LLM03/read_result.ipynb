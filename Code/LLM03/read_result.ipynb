{
 "cells": [
  {
   "cell_type": "code",
   "execution_count": null,
   "metadata": {},
   "outputs": [
    {
     "name": "stdout",
     "output_type": "stream",
     "text": [
      "Model Weights Used:  /root/autodl-tmp/model/Qwen2.5-1.5B\n",
      "|     Filter     |n-shot|  Metric   |Value |   |Stderr|\n",
      "|----------------|-----:|-----------|-----:|---|-----:|\n",
      "|strict-match    |     1|exact_match|0.0045| ± |0.0019|\n",
      "|flexible-extract|     1|exact_match|0.2123| ± |0.0113|\n"
     ]
    },
    {
     "ename": "",
     "evalue": "",
     "output_type": "error",
     "traceback": [
      "\u001b[1;31m在当前单元格或上一个单元格中执行代码时 Kernel 崩溃。\n",
      "\u001b[1;31m请查看单元格中的代码，以确定故障的可能原因。\n",
      "\u001b[1;31m单击<a href='https://aka.ms/vscodeJupyterKernelCrash'>此处</a>了解详细信息。\n",
      "\u001b[1;31m有关更多详细信息，请查看 Jupyter <a href='command:jupyter.viewOutput'>log</a>。"
     ]
    }
   ],
   "source": [
    "import json\n",
    "\n",
    "# 加载 JSON 文件\n",
    "result_path = r'D:\\06.学习资料\\llm course\\Basic-LLM-Learning\\Code\\LLM03\\eval_results\\results_2025-02-09T23-51-09.236971.json'\n",
    "with open(result_path, \"r\") as f:\n",
    "    results = json.load(f)\n",
    "\n",
    "# 提取任务结果\n",
    "task_name = \"gsm8k\"\n",
    "task_results = results[\"results\"][task_name]\n",
    "task_args = results[\"config\"][\"model_args\"]\n",
    "n_shot = results[\"configs\"][task_name][\"num_fewshot\"]\n",
    "\n",
    "# 创建格式化表格\n",
    "header =    \"|     Filter     |n-shot|  Metric   |Value |   |Stderr|\"\n",
    "separator = \"|----------------|-----:|-----------|-----:|---|-----:|\"\n",
    "rows = []\n",
    "\n",
    "\n",
    "rows.append(\n",
    "    f\"|strict-match    |{n_shot:6}|exact_match|{task_results['exact_match,strict-match']:.4f}| ± |{task_results['exact_match_stderr,strict-match']:.4f}|\"\n",
    ")\n",
    "rows.append(\n",
    "    f\"|flexible-extract|{n_shot:6}|exact_match|{task_results['exact_match,flexible-extract']:.4f}| ± |{task_results['exact_match_stderr,flexible-extract']:.4f}|\"\n",
    ")\n",
    "\n",
    "\n",
    "# 打印输出\n",
    "print(\"Model Weights Used: \", task_args.split('=')[1])\n",
    "print(\"\\n\".join([header, separator] + rows))\n"
   ]
  },
  {
   "cell_type": "code",
   "execution_count": null,
   "metadata": {},
   "outputs": [],
   "source": []
  }
 ],
 "metadata": {
  "kernelspec": {
   "display_name": "Python 3",
   "language": "python",
   "name": "python3"
  },
  "language_info": {
   "codemirror_mode": {
    "name": "ipython",
    "version": 3
   },
   "file_extension": ".py",
   "mimetype": "text/x-python",
   "name": "python",
   "nbconvert_exporter": "python",
   "pygments_lexer": "ipython3",
   "version": "3.10.16"
  }
 },
 "nbformat": 4,
 "nbformat_minor": 2
}
