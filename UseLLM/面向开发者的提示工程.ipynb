{
 "cells": [
  {
   "cell_type": "markdown",
   "metadata": {},
   "source": [
    "## 生成函数"
   ]
  },
  {
   "cell_type": "code",
   "execution_count": null,
   "metadata": {},
   "outputs": [],
   "source": [
    "from openai import OpenAI\n",
    "\n",
    "client = OpenAI(api_key=\"your_api_key_here\",   # 替换为你的silliconflow的api\n",
    "                base_url=\"https://api.siliconflow.cn/v1\")"
   ]
  },
  {
   "cell_type": "markdown",
   "metadata": {},
   "source": [
    "### 单次生成"
   ]
  },
  {
   "cell_type": "code",
   "execution_count": 65,
   "metadata": {},
   "outputs": [],
   "source": [
    "def get_completion(prompt, model=\"Qwen/Qwen3-8B\", stream=True, temperature=0.7):  # 默认使用免费模型\n",
    "    response = client.chat.completions.create(\n",
    "        model=model,\n",
    "        messages=[\n",
    "                {'role': 'user', \n",
    "                'content': prompt + '/no_think'}  # 禁用思考\n",
    "            ],\n",
    "            stream=stream,\n",
    "            temperature=temperature,\n",
    "        )\n",
    "    if stream:\n",
    "        return response  # 返回生成器，只有调用时才会开始生成内容\n",
    "    else:\n",
    "        return response.choices[0].message.content.lstrip()  # 返回完整的内容\n",
    "\n",
    "def Show(response):\n",
    "    for chunk in response:\n",
    "        if not chunk.choices:\n",
    "            continue\n",
    "        if chunk.choices[0].delta.content:\n",
    "            print(chunk.choices[0].delta.content, end=\"\", flush=True)\n",
    "        if chunk.choices[0].delta.reasoning_content:\n",
    "            print(chunk.choices[0].delta.reasoning_content, end=\"\", flush=True)"
   ]
  },
  {
   "cell_type": "code",
   "execution_count": 46,
   "metadata": {},
   "outputs": [],
   "source": [
    "def ShowWithoutBlanklines(response):\n",
    "    started = False  # 标记是否开始输出正文\n",
    "    for chunk in response:\n",
    "        if not chunk.choices:\n",
    "            continue\n",
    "        delta = chunk.choices[0].delta\n",
    "\n",
    "        # 依次检查 content 和 reasoning_content\n",
    "        for field in [\"content\", \"reasoning_content\"]:\n",
    "            if hasattr(delta, field):\n",
    "                text = getattr(delta, field)\n",
    "                if text:\n",
    "                    if not started:\n",
    "                        if text.strip() == \"\":  # 全是空白字符（\\n、空格等）\n",
    "                            continue  # 跳过\n",
    "                        started = True  # 首次遇到非空白内容\n",
    "                    print(text, end=\"\", flush=True)\n"
   ]
  },
  {
   "cell_type": "code",
   "execution_count": 60,
   "metadata": {},
   "outputs": [
    {
     "data": {
      "text/markdown": [
       "推理模型（如大型语言模型、逻辑推理模型、类人推理系统等）的进步正在迅速改变各行业的运作方式，并为市场带来了许多新的机会。以下是推理模型给市场带来的主要机会，涵盖各个行业和应用场景：\n",
       "\n",
       "---\n",
       "\n",
       "## 一、**人工智能与自动化领域的机会**\n",
       "\n",
       "1. **更先进的AI产品与服务**\n",
       "   - 推理模型使AI具备更强的理解、分析和决策能力，推动AI从执行固定任务转向更复杂的智能推理，进而催生如智能化客服、法律咨询AI、医疗诊断助手等高质量AI产品和服务。\n",
       "\n",
       "2. **企业自动化升级**\n",
       "   - 推理模型可以集成到企业内部系统中，实现**智能问答**、**自动化流程优化**、**合同分析**、**数据挖掘**等功能，降低人力成本，提高运营效率。\n",
       "\n",
       "3. **个性化服务自动化**\n",
       "   - 在客户服务领域，推理模型能够提供**个性化推荐、自动答疑、智能客服、情绪识别**等服务，提升用户体验并优化企业服务流程。\n",
       "\n",
       "---\n",
       "\n",
       "## 二、**金融科技领域的机会**\n",
       "\n",
       "1. **智能投顾和风险管理**\n",
       "   - 推理模型可以分析大量金融数据，提供个性化的投资建议，甚至模拟市场行为预测风险，帮助投资者和金融机构做出更科学的决策。\n",
       "\n",
       "2. **实时数据分析与决策**\n",
       "   - 金融行业依赖快节奏的数据处理与决策，推理模型可以实时分析市场动态、股票走势、消费者行为等，为高频交易、供应链金融、信贷评级提供支持。\n",
       "\n",
       "3. **合规与反欺诈**\n",
       "   - 推理模型能识别异常交易行为、判断合规风险、生成合规报告，提升金融机构在监管环境下的合规效率和准确性。\n",
       "\n",
       "---\n",
       "\n",
       "## 三、**医疗与健康领域的机会**\n",
       "\n",
       "1. **智能辅助诊断**\n",
       "   - 推理模型可以协助医生进行疾病预测、症状分析、病理解读和治疗推荐，尤其在远程医疗、基层医疗资源匮乏的地方具有重要价值。\n",
       "\n",
       "2. **药物研发与个性化治疗**\n",
       "   - 通过分析基因组数据、医学文献和临床试验结果，推理模型可以加速新药研发，并辅助制定个性化治疗方案。\n",
       "\n",
       "3. **健康管理与预测**\n",
       "   - 利用推理模型对用户的健康数据（如可穿戴设备数据）进行分析，可以实现疾病风险预测、健康行为建议，甚至提前发现慢病易发症状，提高健康管理效率。\n",
       "\n",
       "---\n",
       "\n",
       "## 四、**教育领域的机会**\n",
       "\n",
       "1. **智能教学系统**\n",
       "   - 推理模型可以根据学生的学习行为和成绩动态调整教学内容和难度，实现**个性化教学**，提高学习效率。\n",
       "\n",
       "2. **自动生成和批改作业**\n",
       "   - 推理模型可以自动创建练习题目、批改考试答案，甚至进行错题分析和学习建议，实现教学流程的智能化。\n",
       "\n",
       "3. **教育内容智能生成**\n",
       "   - 教育内容的创作可以借助推理模型，实现**知识图谱构建**、**课程内容自动生成**、**教学视频脚本生成**等，节省教育资源成本。\n",
       "\n",
       "---\n",
       "\n",
       "## 五、**市场营销与广告领域的机会**\n",
       "\n",
       "1. **智能营销与精准投放**\n",
       "   - 推理模型可以分析用户行为、搜索习惯、社交互动等，实现**个性化广告推荐**、**精准营销策略制定**，提高广告转化率。\n",
       "\n",
       "2. **客户行为预测与分析**\n",
       "   - 通过推理模型分析客户数据和反馈，预测用户的兴趣偏好，帮助企业提前进行市场布局。\n",
       "\n",
       "3. **内容创作与用户互动**\n",
       "   - 推理模型可用于自动生成营销文案、社交媒体内容、视频脚本，提高内容生产效率。也能进行**虚拟客服**、**智能客服**等互动，增强用户体验。\n",
       "\n",
       "---\n",
       "\n",
       "## 六、**制造业与工业领域的机会**\n",
       "\n",
       "1. **预测性维护**\n",
       "   - 推理模型可以基于设备运行数据预测设备故障，实现**预测性维护**，降低停机时间和维修成本。\n",
       "\n",
       "2. **智能制造与流程优化**\n",
       "   - 推理模型可用于优化生产流程、改进工艺、进行资源调度，提高制造效率、降低成本、减少浪费。\n",
       "\n",
       "3. **供应链智能管理**\n",
       "   - 通过推理模型分析市场趋势、物流信息、库存数据等，实现**智能供应链管理**，提升企业应变能力。\n",
       "\n",
       "---\n",
       "\n",
       "## 七、**法律与合规领域的机会**\n",
       "\n",
       "1. **法律咨询与文件解析**\n",
       "   - 推理模型可以辅助法律从业者进行合同审查、法律条文解读、案例分析、法律文书生成，节省时间并降低错误率。\n",
       "\n",
       "2. **合规与政策风险评估**\n",
       "   - 推理模型可以分析企业的行为与现行法律法规，进行合规检查和法律风险预测，帮助企业规避法律问题。\n",
       "\n",
       "3. **自动化案件处理**\n",
       "   - 一些推理模型已具备处理简易法律案件的能力，例如合同纠纷、劳动仲裁、知识产权申请等，实现**法律事务自动化**。\n",
       "\n",
       "---\n",
       "\n",
       "## 八、**内容创作与媒体行业的机会**\n",
       "\n",
       "1. **新闻写作与内容生成**\n",
       "   - 推理模型可以自动化撰写新闻稿、报告、科普文章等，尤其是在体育赛事、财报解读、科技创新等领域。\n",
       "\n",
       "2. **创意内容生成**\n",
       "   - 推理模型可以用于创意写作、剧本创作、音乐歌词生成、广告创意等，为创意产业带来新的灵感来源。\n",
       "\n",
       "3. **内容推荐与多元筛选**\n",
       "   - 推理模型可以基于用户兴趣、阅读习惯和行为数据，推荐个性化内容，提升内容消费效率。\n",
       "\n",
       "---\n",
       "\n",
       "## 九、**农业与环境领域的机会**\n",
       "\n",
       "1. **农业智能决策**\n",
       "   - 推理模型可用于分析气候、土壤、市场需求等信息，帮助农民进行种植决策、资源调配和供应链管理，提高农业产出与效率。\n",
       "\n",
       "2. **环境保护与预测**\n",
       "   - 推理模型可以预测环境污染趋势、评估生态影响、优化环保措施，助力可持续发展。\n",
       "\n",
       "---\n",
       "\n",
       "## 十、**娱乐与游戏领域的机会**\n",
       "\n",
       "1. **游戏内容生成与互动**\n",
       "   - 推理模型可以自动生成游戏剧情、角色对话、故事分支，提升游戏的智能化程度和可玩性。\n",
       "\n",
       "2. **个性化娱乐体验**\n",
       "   - 推理模型可根据用户的兴趣、历史行为和情绪数据，提供个性化的内容推荐和互动体验，提升用户粘性。\n",
       "\n",
       "---\n",
       "\n",
       "## 十一、**政务与智慧城市领域的机会**\n",
       "\n",
       "1. **政务智能助手**\n",
       "   - 推理模型可在政务系统中担任智能问答、政策解读、文件生成等功能，提高政府公共服务的效率和质量。\n",
       "\n",
       "2. **城市交通与资源调度**\n",
       "   - 推理模型可用于城市交通调度、公共交通优化、能源管理、灾害预警等，助力智慧城市建设。\n",
       "\n",
       "3. **情报分析与政策建议**\n",
       "   - 推理模型可以分析经济、社会、政策等大数据，提供决策支持，优化政策制定流程。\n",
       "\n",
       "---\n",
       "\n",
       "## 十二、**科学研究与技术开发领域的机会**\n",
       "\n",
       "1. **科研辅助与文献分析**\n",
       "   - 推理模型可以帮助科学家自动整理文献、提取关键信息、生成科研汇报、辅助论文撰写，提升科研效率。\n",
       "\n",
       "2. **科学假设生成与实验设计**\n",
       "   - 在某些科学领域，推理模型可以模拟实验过程，帮助科学家生成假设、优化实验设计，推动科学研究进展。\n",
       "\n",
       "---\n",
       "\n",
       "## 总结：推理模型带来的市场机会\n",
       "\n",
       "| 领域            | 主要机会                                                                 |\n",
       "|-----------------|--------------------------------------------------------------------------|\n",
       "| 人工智能        | 高效AI产品、自动化流程、智能交互工具                                  |\n",
       "| 金融科技        | 智能投顾、实时风控、合规管理                                            |\n",
       "| 医疗健康        | 辅助诊断、个性化治疗、健康管理预测                                     |\n",
       "| 教育            | 个性化教学、自动生成内容、智能批改                                     |\n",
       "| 市场营销        | 智能推荐、精准广告、用户行为预测                                       |\n",
       "| 制造业          | 智能制造、预测性维护、供应链优化                                       |\n",
       "| 法律与合规      | 合规检查、法律咨询、智能案件处理                                         |\n",
       "| 内容创作        | 新闻写作、创意内容、视频脚本生成                                         |\n",
       "| 农业与环境      | 农业决策、环境预测、资源优化                                           |\n",
       "| 娱乐与游戏      | 游戏内容生成、个性化娱乐体验                                             |\n",
       "| 政务与智慧城市    | 智能政务、城市资源调度、情报分析                                       |\n",
       "| 科学研究        | 文献分析、假设生成、实验优化                                             |\n",
       "\n",
       "---\n",
       "\n",
       "## 未来展望\n",
       "\n",
       "随着推理模型在语义理解、上下文学习和逻辑推理方面的不断提升，其应用场景会进一步拓展。未来，推理模型可能会成为一种**基础基础设施**，广泛应用于企业、政府、科研机构、个人等各个层面，带来**更智能、更高效、更个性化的市场解决方案**。\n",
       "\n",
       "如果你是创业者或投资者，推理模型的出现意味着你有更多机会开发**垂直行业应用**、**智能化服务**、**决策辅助工具**等，也可以考虑如何在**数据安全、模型伦理、用户体验优化**等方面打造差异化的竞争力。"
      ],
      "text/plain": [
       "<IPython.core.display.Markdown object>"
      ]
     },
     "metadata": {},
     "output_type": "display_data"
    }
   ],
   "source": [
    "# 使用示例\n",
    "from IPython.display import display, Markdown\n",
    "\n",
    "response = get_completion(\"推理模型会给市场带来哪些新的机会\", stream=False)\n",
    "\n",
    "display(Markdown(response))"
   ]
  },
  {
   "cell_type": "markdown",
   "metadata": {},
   "source": [
    "### 对话生成"
   ]
  },
  {
   "cell_type": "code",
   "execution_count": 68,
   "metadata": {},
   "outputs": [],
   "source": [
    "def get_completion_from_messages(messages, model=\"Qwen/Qwen3-8B\", stream=True, temperature=0.7):\n",
    "    response = client.chat.completions.create(\n",
    "        model=model,\n",
    "        messages=messages,\n",
    "        stream=stream,\n",
    "        temperature=temperature,\n",
    "    )\n",
    "    if stream:\n",
    "        return response  # 返回生成器，只有调用时才会开始生成内容\n",
    "    else:\n",
    "        return response.choices[0].message.content.lstrip()  # 返回完整的内容，去除前导空白字符\n"
   ]
  },
  {
   "cell_type": "markdown",
   "metadata": {},
   "source": [
    "## 迭代优化\n",
    "\n",
    "### 基础信息"
   ]
  },
  {
   "cell_type": "code",
   "execution_count": 6,
   "metadata": {},
   "outputs": [],
   "source": [
    "fact_sheet_chair = \"\"\"\n",
    "概述\n",
    "\n",
    "    美丽的中世纪风格办公家具系列的一部分，包括文件柜、办公桌、书柜、会议桌等。\n",
    "    多种外壳颜色和底座涂层可选。\n",
    "    可选塑料前后靠背装饰（SWC-100）或10种面料和6种皮革的全面装饰（SWC-110）。\n",
    "    底座涂层选项为：不锈钢、哑光黑色、光泽白色或铬。\n",
    "    椅子可带或不带扶手。\n",
    "    适用于家庭或商业场所。\n",
    "    符合合同使用资格。\n",
    "\n",
    "结构\n",
    "\n",
    "    五个轮子的塑料涂层铝底座。\n",
    "    气动椅子调节，方便升降。\n",
    "\n",
    "尺寸\n",
    "\n",
    "    宽度53厘米|20.87英寸\n",
    "    深度51厘米|20.08英寸\n",
    "    高度80厘米|31.50英寸\n",
    "    座椅高度44厘米|17.32英寸\n",
    "    座椅深度41厘米|16.14英寸\n",
    "\n",
    "选项\n",
    "\n",
    "    软地板或硬地板滚轮选项。\n",
    "    两种座椅泡沫密度可选：中等（1.8磅/立方英尺）或高（2.8磅/立方英尺）。\n",
    "    无扶手或8个位置PU扶手。\n",
    "\n",
    "材料\n",
    "外壳底座滑动件\n",
    "\n",
    "    改性尼龙PA6/PA66涂层的铸铝。\n",
    "    外壳厚度：10毫米。\n",
    "    座椅\n",
    "    HD36泡沫\n",
    "\n",
    "原产国\n",
    "\n",
    "    意大利\n",
    "\"\"\"\n"
   ]
  },
  {
   "cell_type": "markdown",
   "metadata": {},
   "source": [
    "### 初始提示"
   ]
  },
  {
   "cell_type": "code",
   "execution_count": 7,
   "metadata": {},
   "outputs": [
    {
     "name": "stdout",
     "output_type": "stream",
     "text": [
      "\n",
      "\n",
      "\n",
      "\n",
      "当然可以！以下是基于您提供的技术说明书整理出的一段精美的产品营销描述：\n",
      "\n",
      "---\n",
      "\n",
      "**展现中世纪韵味的办公家具新体验——优雅与实用的完美结合**\n",
      "\n",
      "这款办公家具是中世纪风格办公家具系列中的经典之作，融合了历史与现代的设计理念，适用于家庭或商业环境，为您的空间增添独特的文化气息与艺术价值。无论是需要存放文件的文件柜，还是专为高效办公打造的办公桌、书柜或会议桌，每一款都精心设计，兼顾功能与美感。\n",
      "\n",
      "产品采用高品质铸铝材质，搭配改性尼龙PA6/PA66涂层，确保结构坚固耐用，同时具备出色的抗腐蚀性能。外壳厚度为10毫米，经久耐用，彰显品质。座位部分采用HD36泡沫，舒适性与支撑性兼备，让久坐不再疲惫。\n",
      "\n",
      "可选多种外壳颜色与底座涂层，包括不锈钢、哑光黑色、光泽白色或铬，满足不同风格与使用场景的需求。另外，还提供塑料前后靠背装饰（SWC-100）或10种面料与6种皮革的全面装饰（SWC-110），让每一把椅子都能完美匹配您的个性与环境。\n",
      "\n",
      "气动椅子调节系统，轻松实现座位高度的升降，提升使用便捷性。座椅高度44厘米，座椅深度41厘米，设计科学，贴合人体工学。同时，座椅扶手可选无扶手或8个位置PU扶手，为不同用户偏好提供灵活选择。\n",
      "\n",
      "拥有五个轮子的塑料涂层铝底座，轻便灵活，适用于多种地面类型，包括软地板或硬地板选项。无论是现代办公室还是复古书房，这款家具都能为您带来高品质的使用体验。\n",
      "\n",
      "源于意大利精湛工艺，每一件产品都承载着对细节的极致追求，是您理想办公环境的完美选择。\n",
      "\n",
      "--- \n",
      "\n",
      "如需根据目标用户群体（如高端商务客户、家庭用户或年轻创意团队）进一步定制描述，也可以告诉我，我可以为您优化内容。"
     ]
    }
   ],
   "source": [
    "# Prompt ：基于说明书创建营销描述\n",
    "prompt = f\"\"\"\n",
    "您的任务是帮助营销团队基于技术说明书创建一个产品的营销描述。\n",
    "\n",
    "根据```标记的技术说明书中提供的信息，编写一个产品描述。\n",
    "\n",
    "技术说明: ```{fact_sheet_chair}```\n",
    "\"\"\"\n",
    "response = get_completion(prompt)\n",
    "\n",
    "Show(response)\n"
   ]
  },
  {
   "cell_type": "markdown",
   "metadata": {},
   "source": [
    "### 解决文本生成太长"
   ]
  },
  {
   "cell_type": "code",
   "execution_count": 8,
   "metadata": {},
   "outputs": [
    {
     "name": "stdout",
     "output_type": "stream",
     "text": [
      "\n",
      "\n",
      "\n",
      "\n",
      "融合中世纪风格与现代设计，这款办公椅带来经典美感。选配多色外壳与多种底座涂层，包括不锈钢或哑光黑。气动调节，舒适耐用，适合家庭或商业使用。"
     ]
    }
   ],
   "source": [
    "# 优化后的 Prompt，要求生成描述不多于 50 词\n",
    "prompt = f\"\"\"\n",
    "您的任务是帮助营销团队基于技术说明书创建一个产品的零售网站描述。\n",
    "\n",
    "根据```标记的技术说明书中提供的信息，编写一个产品描述。\n",
    "\n",
    "使用最多50个词。\n",
    "\n",
    "技术规格：```{fact_sheet_chair}```\n",
    "\"\"\"\n",
    "response = get_completion(prompt)\n",
    "Show(response)\n"
   ]
  },
  {
   "cell_type": "markdown",
   "metadata": {},
   "source": [
    "### 处理抓错文本细节"
   ]
  },
  {
   "cell_type": "code",
   "execution_count": 9,
   "metadata": {},
   "outputs": [
    {
     "name": "stdout",
     "output_type": "stream",
     "text": [
      "\n",
      "\n",
      "\n",
      "\n",
      "这款中世纪风格办公椅采用铸铝底座，表面覆有改性尼龙PA6/PA66涂层，耐磨损且易于清洁。座椅使用HD36高密度泡沫，提供卓越舒适性与支撑性。可选不锈钢、哑光黑、光泽白或铬底座颜色，搭配无扶手或8位置PU扶手设计，兼顾美观与功能性。"
     ]
    }
   ],
   "source": [
    "# 优化后的 Prompt，说明面向对象，应具有什么性质且侧重于什么方面\n",
    "prompt = f\"\"\"\n",
    "您的任务是帮助营销团队基于技术说明书创建一个产品的零售网站描述。\n",
    "\n",
    "根据```标记的技术说明书中提供的信息，编写一个产品描述。\n",
    "\n",
    "该描述面向家具零售商，因此应具有技术性质，并侧重于产品的材料构造。\n",
    "\n",
    "使用最多50个单词。\n",
    "\n",
    "技术规格： ```{fact_sheet_chair}```\n",
    "\"\"\"\n",
    "response = get_completion(prompt)\n",
    "Show(response)\n"
   ]
  },
  {
   "cell_type": "markdown",
   "metadata": {},
   "source": [
    "### 展示产品ID"
   ]
  },
  {
   "cell_type": "code",
   "execution_count": 10,
   "metadata": {},
   "outputs": [
    {
     "name": "stdout",
     "output_type": "stream",
     "text": [
      "\n",
      "\n",
      "\n",
      "\n",
      "这款中世纪风格办公椅采用铸铝底座，表面覆盖改性尼龙PA6/PA66涂层，增强耐用性与美观性。座椅部分使用HD36泡沫，提供舒适支撑。可选配软或硬地板滚轮，以及中等（1.8 lb/ft³）或高密度（2.8 lb/ft³）座椅填充。扶手可选或配备8位置PU材质。SWC-100 SWC-110"
     ]
    }
   ],
   "source": [
    "# 更进一步\n",
    "prompt = f\"\"\"\n",
    "您的任务是帮助营销团队基于技术说明书创建一个产品的零售网站描述。\n",
    "\n",
    "根据```标记的技术说明书中提供的信息，编写一个产品描述。\n",
    "\n",
    "该描述面向家具零售商，因此应具有技术性质，并侧重于产品的材料构造。\n",
    "\n",
    "在描述末尾，包括技术规格中每个7个字符的产品ID。\n",
    "\n",
    "使用最多50个单词。\n",
    "\n",
    "技术规格： ```{fact_sheet_chair}```\n",
    "\"\"\"\n",
    "response = get_completion(prompt)\n",
    "Show(response)\n"
   ]
  },
  {
   "cell_type": "markdown",
   "metadata": {},
   "source": [
    "### 添加表格描述"
   ]
  },
  {
   "cell_type": "code",
   "execution_count": 11,
   "metadata": {},
   "outputs": [
    {
     "name": "stdout",
     "output_type": "stream",
     "text": [
      "\n",
      "\n",
      "\n",
      "\n",
      "```html\n",
      "<div>\n",
      "  <h2>中世纪风格办公椅</h2>\n",
      "  <p>这款办公椅是中世纪风格办公家具系列的重要组成部分，专为现代办公环境设计。其采用精密工艺打造，结合经典美学与现代功能性，适用于家庭或商业场所。</p>\n",
      "  <p>椅身结构为五轮塑料涂层铝底座，提供稳定的支撑与顺畅的移动体验。底座外壳采用铸铝材质，并涂覆改性尼龙PA6/PA66，增强耐用性与抗腐蚀性能，厚度达到10毫米。座椅部分使用高密度HD36泡沫，带来极致的舒适感。</p>\n",
      "  <p>椅子可选配扶手，扶手材质为8个位置PU材质。此外，座椅高度与深度也可通过调节实现个性化定制，满足不同用户需求。</p>\n",
      "  <p>本产品还可选择软地板或硬地板滚轮，为办公环境提供更灵活的使用体验。同时，座椅泡沫密度提供中等（1.8磅/立方英尺）或高（2.8磅/立方英尺）两种选项，以兼顾舒适度与支撑力。</p>\n",
      "  <p>所有产品均产自意大利，体现了卓越的制造工艺与品质保障。</p>\n",
      "\n",
      "  <h3>产品ID: SWC-100</h3>\n",
      "  <h3>产品ID: SWC-110</h3>\n",
      "</div>\n",
      "\n",
      "<table>\n",
      "  <caption>产品尺寸</caption>\n",
      "  <tr>\n",
      "    <th>尺寸名称</th>\n",
      "    <th>英寸测量值</th>\n",
      "  </tr>\n",
      "  <tr>\n",
      "    <td>宽度</td>\n",
      "    <td>20.87</td>\n",
      "  </tr>\n",
      "  <tr>\n",
      "    <td>深度</td>\n",
      "    <td>20.08</td>\n",
      "  </tr>\n",
      "  <tr>\n",
      "    <td>高度</td>\n",
      "    <td>31.50</td>\n",
      "  </tr>\n",
      "  <tr>\n",
      "    <td>座椅高度</td>\n",
      "    <td>17.32</td>\n",
      "  </tr>\n",
      "  <tr>\n",
      "    <td>座椅深度</td>\n",
      "    <td>16.14</td>\n",
      "  </tr>\n",
      "</table>\n",
      "```"
     ]
    }
   ],
   "source": [
    "# 要求它抽取信息并组织成表格，并指定表格的列、表名和格式\n",
    "prompt = f\"\"\"\n",
    "您的任务是帮助营销团队基于技术说明书创建一个产品的零售网站描述。\n",
    "\n",
    "根据```标记的技术说明书中提供的信息，编写一个产品描述。\n",
    "\n",
    "该描述面向家具零售商，因此应具有技术性质，并侧重于产品的材料构造。\n",
    "\n",
    "在描述末尾，包括技术规格中每个7个字符的产品ID。\n",
    "\n",
    "在描述之后，包括一个表格，提供产品的尺寸。表格应该有两列。第一列包括尺寸的名称。第二列只包括英寸的测量值。\n",
    "\n",
    "给表格命名为“产品尺寸”。\n",
    "\n",
    "将所有内容格式化为可用于网站的HTML格式。将描述放在<div>元素中。\n",
    "\n",
    "技术规格：```{fact_sheet_chair}```\n",
    "\"\"\"\n",
    "\n",
    "response = get_completion(prompt)\n",
    "Show(response)       "
   ]
  },
  {
   "cell_type": "markdown",
   "metadata": {},
   "source": [
    "## 文本概括\n",
    "\n",
    "### 文本示例"
   ]
  },
  {
   "cell_type": "code",
   "execution_count": 12,
   "metadata": {},
   "outputs": [],
   "source": [
    "prod_review = \"\"\"\n",
    "这个熊猫公仔是我给女儿的生日礼物，她很喜欢，去哪都带着。\n",
    "公仔很软，超级可爱，面部表情也很和善。但是相比于价钱来说，\n",
    "它有点小，我感觉在别的地方用同样的价钱能买到更大的。\n",
    "快递比预期提前了一天到货，所以在送给女儿之前，我自己玩了会。\n",
    "\"\"\"\n"
   ]
  },
  {
   "cell_type": "markdown",
   "metadata": {},
   "source": [
    "### 限制输出文本长度"
   ]
  },
  {
   "cell_type": "code",
   "execution_count": 13,
   "metadata": {},
   "outputs": [
    {
     "name": "stdout",
     "output_type": "stream",
     "text": [
      "\n",
      "\n",
      "\n",
      "\n",
      "熊猫公仔可爱软萌，女儿喜欢，但尺寸较小，快递提前送达。"
     ]
    }
   ],
   "source": [
    "prompt = f\"\"\"\n",
    "您的任务是从电子商务网站上生成一个产品评论的简短摘要。\n",
    "\n",
    "请对三个反引号之间的评论文本进行概括，最多30个字。\n",
    "\n",
    "评论: ```{prod_review}```\n",
    "\"\"\"\n",
    "\n",
    "response = get_completion(prompt)\n",
    "Show(response)\n"
   ]
  },
  {
   "cell_type": "markdown",
   "metadata": {},
   "source": [
    "### 设置关键角度侧重"
   ]
  },
  {
   "cell_type": "code",
   "execution_count": 14,
   "metadata": {},
   "outputs": [
    {
     "name": "stdout",
     "output_type": "stream",
     "text": [
      "\n",
      "\n",
      "\n",
      "\n",
      "快递服务提前送达，体验良好。"
     ]
    }
   ],
   "source": [
    "# 侧重于快递服务\n",
    "prompt = f\"\"\"\n",
    "您的任务是从电子商务网站上生成一个产品评论的简短摘要。\n",
    "\n",
    "请对三个反引号之间的评论文本进行概括，最多30个字，并且侧重在快递服务上。\n",
    "\n",
    "评论: ```{prod_review}```\n",
    "\"\"\"\n",
    "\n",
    "response = get_completion(prompt)\n",
    "Show(response)\n"
   ]
  },
  {
   "cell_type": "code",
   "execution_count": 15,
   "metadata": {},
   "outputs": [
    {
     "name": "stdout",
     "output_type": "stream",
     "text": [
      "\n",
      "\n",
      "\n",
      "\n",
      "该熊猫公仔价格偏高，尺寸较小，但柔软可爱，质量尚可。"
     ]
    }
   ],
   "source": [
    "# 侧重于价格和质量\n",
    "prompt = f\"\"\"\n",
    "您的任务是从电子商务网站上生成一个产品评论的简短摘要。\n",
    "\n",
    "请对三个反引号之间的评论文本进行概括，最多30个词汇，并且侧重在产品价格和质量上。\n",
    "\n",
    "评论: ```{prod_review}```\n",
    "\"\"\"\n",
    "\n",
    "response = get_completion(prompt)\n",
    "Show(response)\n"
   ]
  },
  {
   "cell_type": "markdown",
   "metadata": {},
   "source": [
    "### 关键信息提取"
   ]
  },
  {
   "cell_type": "code",
   "execution_count": 16,
   "metadata": {},
   "outputs": [
    {
     "name": "stdout",
     "output_type": "stream",
     "text": [
      "\n",
      "\n",
      "\n",
      "\n",
      "快递提前一天到货，产品较贵但尺寸较小，适合携带。"
     ]
    }
   ],
   "source": [
    "# 提取运输相关信息\n",
    "prompt = f\"\"\"\n",
    "您的任务是从电子商务网站上的产品评论中提取相关信息。\n",
    "\n",
    "请从以下三个反引号之间的评论文本中提取产品运输相关的信息，最多30个词汇。\n",
    "\n",
    "评论: ```{prod_review}```\n",
    "\"\"\"\n",
    "\n",
    "response = get_completion(prompt)\n",
    "Show(response)\n"
   ]
  },
  {
   "cell_type": "markdown",
   "metadata": {},
   "source": [
    "## 同时概括多条文本\n",
    "\n",
    "### 文本示例"
   ]
  },
  {
   "cell_type": "code",
   "execution_count": 17,
   "metadata": {},
   "outputs": [],
   "source": [
    "review_1 = prod_review\n",
    "\n",
    "# 一盏落地灯的评论\n",
    "review_2 = \"\"\"\n",
    "我需要一盏漂亮的卧室灯，这款灯不仅具备额外的储物功能，价格也并不算太高。\n",
    "收货速度非常快，仅用了两天的时间就送到了。\n",
    "不过，在运输过程中，灯的拉线出了问题，幸好，公司很乐意寄送了一根全新的灯线。\n",
    "新的灯线也很快就送到手了，只用了几天的时间。\n",
    "装配非常容易。然而，之后我发现有一个零件丢失了，于是我联系了客服，他们迅速地给我寄来了缺失的零件！\n",
    "对我来说，这是一家非常关心客户和产品的优秀公司。\n",
    "\"\"\"\n",
    "\n",
    "# 一把电动牙刷的评论\n",
    "review_3 = \"\"\"\n",
    "我的牙科卫生员推荐了电动牙刷，所以我就买了这款。\n",
    "到目前为止，电池续航表现相当不错。\n",
    "初次充电后，我在第一周一直将充电器插着，为的是对电池进行条件养护。\n",
    "过去的3周里，我每天早晚都使用它刷牙，但电池依然维持着原来的充电状态。\n",
    "不过，牙刷头太小了。我见过比这个牙刷头还大的婴儿牙刷。\n",
    "我希望牙刷头更大一些，带有不同长度的刷毛，\n",
    "这样可以更好地清洁牙齿间的空隙，但这款牙刷做不到。\n",
    "总的来说，如果你能以50美元左右的价格购买到这款牙刷，那是一个不错的交易。\n",
    "制造商的替换刷头相当昂贵，但你可以购买价格更为合理的通用刷头。\n",
    "这款牙刷让我感觉就像每天都去了一次牙医，我的牙齿感觉非常干净！\n",
    "\"\"\"\n",
    "\n",
    "# 一台搅拌机的评论\n",
    "review_4 = \"\"\"\n",
    "在11月份期间，这个17件套装还在季节性促销中，售价约为49美元，打了五折左右。\n",
    "可是由于某种原因（我们可以称之为价格上涨），到了12月的第二周，所有的价格都上涨了，\n",
    "同样的套装价格涨到了70-89美元不等。而11件套装的价格也从之前的29美元上涨了约10美元。\n",
    "看起来还算不错，但是如果你仔细看底座，刀片锁定的部分看起来没有前几年版本的那么漂亮。\n",
    "然而，我打算非常小心地使用它\n",
    "（例如，我会先在搅拌机中研磨豆类、冰块、大米等坚硬的食物，然后再将它们研磨成所需的粒度，\n",
    "接着切换到打蛋器刀片以获得更细的面粉，如果我需要制作更细腻/少果肉的食物）。\n",
    "在制作冰沙时，我会将要使用的水果和蔬菜切成细小块并冷冻\n",
    "（如果使用菠菜，我会先轻微煮熟菠菜，然后冷冻，直到使用时准备食用。\n",
    "如果要制作冰糕，我会使用一个小到中号的食物加工器），这样你就可以避免添加过多的冰块。\n",
    "大约一年后，电机开始发出奇怪的声音。我打电话给客户服务，但保修期已经过期了，\n",
    "所以我只好购买了另一台。值得注意的是，这类产品的整体质量在过去几年里有所下降\n",
    "，所以他们在一定程度上依靠品牌认知和消费者忠诚来维持销售。在大约两天内，我收到了新的搅拌机。\n",
    "\"\"\"\n",
    "\n",
    "reviews = [review_1, review_2, review_3, review_4]\n"
   ]
  },
  {
   "cell_type": "markdown",
   "metadata": {},
   "source": [
    "### 提取"
   ]
  },
  {
   "cell_type": "code",
   "execution_count": 18,
   "metadata": {},
   "outputs": [
    {
     "name": "stdout",
     "output_type": "stream",
     "text": [
      "评论1:  \n",
      "\n",
      "这个熊猫公仔是女儿生日礼物，可爱软萌，但尺寸偏小，快递提前送达。 \n",
      "\n",
      "评论2:  \n",
      "\n",
      "这款灯外观漂亮，功能实用，价格合理，配送迅速，客服响应及时，解决问题高效。 \n",
      "\n",
      "评论3:  \n",
      "\n",
      "这款电动牙刷电池耐用，但刷头过小且价格较高。 \n",
      "\n",
      "评论4:  \n",
      "\n",
      "该评论概括为：  \n",
      "**季节促销后涨价，设计略有下降，电机故障后需更换，依赖品牌维持销售。** \n",
      "\n"
     ]
    }
   ],
   "source": [
    "for i in range(len(reviews)):\n",
    "    prompt = f\"\"\"\n",
    "    你的任务是从电子商务网站上的产品评论中提取相关信息。\n",
    "\n",
    "    请对三个反引号之间的评论文本进行概括，最多20个词汇。\n",
    "\n",
    "    评论文本: ```{reviews[i]}```\n",
    "    \"\"\"\n",
    "    response = get_completion(prompt, stream=False)\n",
    "    print(f\"评论{i+1}: \", response, \"\\n\")\n"
   ]
  },
  {
   "cell_type": "markdown",
   "metadata": {},
   "source": [
    "## 推断"
   ]
  },
  {
   "cell_type": "markdown",
   "metadata": {},
   "source": [
    "### 文本示例"
   ]
  },
  {
   "cell_type": "code",
   "execution_count": 19,
   "metadata": {},
   "outputs": [],
   "source": [
    "lamp_review = \"\"\"\n",
    "我需要一盏漂亮的卧室灯，这款灯具有额外的储物功能，价格也不算太高。\\\n",
    "我很快就收到了它。在运输过程中，我们的灯绳断了，但是公司很乐意寄送了一个新的。\\\n",
    "几天后就收到了。这款灯很容易组装。我发现少了一个零件，于是联系了他们的客服，他们很快就给我寄来了缺失的零件！\\\n",
    "在我看来，Lumina 是一家非常关心顾客和产品的优秀公司！\n",
    "\"\"\"\n"
   ]
  },
  {
   "cell_type": "markdown",
   "metadata": {},
   "source": [
    "### 情感倾向分析"
   ]
  },
  {
   "cell_type": "code",
   "execution_count": 20,
   "metadata": {},
   "outputs": [
    {
     "name": "stdout",
     "output_type": "stream",
     "text": [
      "\n",
      "\n",
      "\n",
      "\n",
      "这段产品评论的情感是**积极的**。\n",
      "\n",
      "评论整体表达了用户对产品的满意，尽管在运输过程中遇到了一些小问题（灯绳断了、少了一个零件），但公司及时提供了补救措施，展现了良好的客户服务。用户最后还称赞了公司“非常关心顾客和产品”，并认为其是“优秀的公司”。这种在困难中仍保持正面评价的态度，说明情感倾向是积极的。"
     ]
    }
   ],
   "source": [
    "prompt = f\"\"\"\n",
    "以下用三个反引号分隔的产品评论的情感是什么？\n",
    "\n",
    "评论文本: ```{lamp_review}```\n",
    "\"\"\"\n",
    "response = get_completion(prompt)\n",
    "Show(response)\n"
   ]
  },
  {
   "cell_type": "code",
   "execution_count": 21,
   "metadata": {},
   "outputs": [
    {
     "name": "stdout",
     "output_type": "stream",
     "text": [
      "\n",
      "\n",
      "\n",
      "\n",
      "正面"
     ]
    }
   ],
   "source": [
    "prompt = f\"\"\"\n",
    "以下用三个反引号分隔的产品评论的情感是什么？\n",
    "\n",
    "用一个单词回答：「正面」或「负面」。\n",
    "\n",
    "评论文本: ```{lamp_review}```\n",
    "\"\"\"\n",
    "response = get_completion(prompt)\n",
    "Show(response)\n"
   ]
  },
  {
   "cell_type": "markdown",
   "metadata": {},
   "source": [
    "### 识别情感类型"
   ]
  },
  {
   "cell_type": "code",
   "execution_count": 24,
   "metadata": {},
   "outputs": [
    {
     "name": "stdout",
     "output_type": "stream",
     "text": [
      "\n",
      "\n",
      "\n",
      "\n",
      "满意, 感谢, � � 积极, 满意, 感谢"
     ]
    }
   ],
   "source": [
    "prompt = f\"\"\"\n",
    "识别以下评论的作者表达的情感。包含不超过五个项目。将答案格式化为以逗号分隔的单词列表。\n",
    "\n",
    "评论文本: ```{lamp_review}```\n",
    "\"\"\"\n",
    "response = get_completion(prompt)\n",
    "Show(response)\n"
   ]
  },
  {
   "cell_type": "markdown",
   "metadata": {},
   "source": [
    "### 识别愤怒"
   ]
  },
  {
   "cell_type": "code",
   "execution_count": 25,
   "metadata": {},
   "outputs": [
    {
     "name": "stdout",
     "output_type": "stream",
     "text": [
      "\n",
      "\n",
      "\n",
      "\n",
      "否。"
     ]
    }
   ],
   "source": [
    "prompt = f\"\"\"\n",
    "以下评论的作者是否表达了愤怒？评论用三个反引号分隔。给出是或否的答案。\n",
    "\n",
    "评论文本: ```{lamp_review}```\n",
    "\"\"\"\n",
    "response = get_completion(prompt)\n",
    "Show(response)\n"
   ]
  },
  {
   "cell_type": "markdown",
   "metadata": {},
   "source": [
    "### 商品信息提取"
   ]
  },
  {
   "cell_type": "code",
   "execution_count": 26,
   "metadata": {},
   "outputs": [
    {
     "name": "stdout",
     "output_type": "stream",
     "text": [
      "\n",
      "\n",
      "\n",
      "\n",
      "{\n",
      "  \"物品\": \"卧室灯\",\n",
      "  \"品牌\": \"Lumina\"\n",
      "}"
     ]
    }
   ],
   "source": [
    "prompt = f\"\"\"\n",
    "从评论文本中识别以下项目：\n",
    "- 评论者购买的物品\n",
    "- 制造该物品的公司\n",
    "\n",
    "评论文本用三个反引号分隔。将你的响应格式化为以 “物品” 和 “品牌” 为键的 JSON 对象。\n",
    "如果信息不存在，请使用 “未知” 作为值。\n",
    "让你的回应尽可能简短。\n",
    "\n",
    "评论文本: ```{lamp_review}```\n",
    "\"\"\"\n",
    "response = get_completion(prompt)\n",
    "Show(response)\n"
   ]
  },
  {
   "cell_type": "markdown",
   "metadata": {},
   "source": [
    "### 综合情感判断和信息提取"
   ]
  },
  {
   "cell_type": "code",
   "execution_count": 27,
   "metadata": {},
   "outputs": [
    {
     "name": "stdout",
     "output_type": "stream",
     "text": [
      "\n",
      "\n",
      "\n",
      "\n",
      "{\n",
      "  \"情感倾向\": \"正面\",\n",
      "  \"是否生气\": false,\n",
      "  \"物品类型\": \"卧室灯\",\n",
      "  \"品牌\": \"Lumina\"\n",
      "}"
     ]
    }
   ],
   "source": [
    "prompt = f\"\"\"\n",
    "从评论文本中识别以下项目：\n",
    "- 情绪（正面或负面）\n",
    "- 审稿人是否表达了愤怒？（是或否）\n",
    "- 评论者购买的物品\n",
    "- 制造该物品的公司\n",
    "\n",
    "评论用三个反引号分隔。将你的响应格式化为 JSON 对象，以 “情感倾向”、“是否生气”、“物品类型” 和 “品牌” 作为键。\n",
    "如果信息不存在，请使用 “未知” 作为值。\n",
    "让你的回应尽可能简短。\n",
    "将 “是否生气” 值格式化为布尔值。\n",
    "\n",
    "评论文本: ```{lamp_review}```\n",
    "\"\"\"\n",
    "response = get_completion(prompt)\n",
    "Show(response)\n"
   ]
  },
  {
   "cell_type": "markdown",
   "metadata": {},
   "source": [
    "### 主题推断"
   ]
  },
  {
   "cell_type": "code",
   "execution_count": 28,
   "metadata": {},
   "outputs": [],
   "source": [
    "# 文本示例\n",
    "story = \"\"\"\n",
    "在政府最近进行的一项调查中，要求公共部门的员工对他们所在部门的满意度进行评分。\n",
    "调查结果显示，NASA 是最受欢迎的部门，满意度为 95％。\n",
    "\n",
    "一位 NASA 员工 John Smith 对这一发现发表了评论，他表示：\n",
    "“我对 NASA 排名第一并不感到惊讶。这是一个与了不起的人们和令人难以置信的机会共事的好地方。我为成为这样一个创新组织的一员感到自豪。”\n",
    "\n",
    "NASA 的管理团队也对这一结果表示欢迎，主管 Tom Johnson 表示：\n",
    "“我们很高兴听到我们的员工对 NASA 的工作感到满意。\n",
    "我们拥有一支才华横溢、忠诚敬业的团队，他们为实现我们的目标不懈努力，看到他们的辛勤工作得到回报是太棒了。”\n",
    "\n",
    "调查还显示，社会保障管理局的满意度最低，只有 45％的员工表示他们对工作满意。\n",
    "政府承诺解决调查中员工提出的问题，并努力提高所有部门的工作满意度。\n",
    "\"\"\"\n"
   ]
  },
  {
   "cell_type": "code",
   "execution_count": 29,
   "metadata": {},
   "outputs": [
    {
     "name": "stdout",
     "output_type": "stream",
     "text": [
      "\n",
      "\n",
      "\n",
      "\n",
      "[\"政府调查\", \"部门满意度\", \"NASA\", \"员工评价\", \"改进措施\"]"
     ]
    }
   ],
   "source": [
    "# 中文\n",
    "prompt = f\"\"\"\n",
    "确定以下给定文本中讨论的五个主题。\n",
    "\n",
    "每个主题用1-2个词概括。\n",
    "\n",
    "请输出一个可解析的Python列表，每个元素是一个字符串，展示了一个主题。\n",
    "\n",
    "给定文本: ```{story}```\n",
    "\"\"\"\n",
    "response = get_completion(prompt)\n",
    "Show(response)\n"
   ]
  },
  {
   "cell_type": "markdown",
   "metadata": {},
   "source": [
    "### 为特定主题制作新闻提醒"
   ]
  },
  {
   "cell_type": "code",
   "execution_count": 34,
   "metadata": {},
   "outputs": [
    {
     "name": "stdout",
     "output_type": "stream",
     "text": [
      "\n",
      "\n",
      "\n",
      "\n",
      "```json\n",
      "[\n",
      "  {\"美国航空航天局\": 1},\n",
      "  {\"当地政府\": 0},\n",
      "  {\"工程\": 0},\n",
      "  {\"员工满意度\": 1},\n",
      "  {\"联邦政府\": 1}\n",
      "]\n",
      "```"
     ]
    }
   ],
   "source": [
    "prompt = f\"\"\"\n",
    "判断主题列表中的每一项是否是给定文本中的一个话题，\n",
    "\n",
    "以列表的形式给出答案，每个元素是一个Json对象，键为对应主题，值为对应的 0 或 1。\n",
    "\n",
    "主题列表：美国航空航天局、当地政府、工程、员工满意度、联邦政府\n",
    "\n",
    "给定文本: ```{story}```\n",
    "\"\"\"\n",
    "response = get_completion(prompt)\n",
    "Show(response)\n"
   ]
  },
  {
   "cell_type": "markdown",
   "metadata": {},
   "source": [
    "## 文本转换"
   ]
  },
  {
   "cell_type": "markdown",
   "metadata": {},
   "source": [
    "### 文本翻译"
   ]
  },
  {
   "cell_type": "code",
   "execution_count": 35,
   "metadata": {},
   "outputs": [
    {
     "name": "stdout",
     "output_type": "stream",
     "text": [
      "\n",
      "\n",
      "\n",
      "\n",
      "```Hola, quiero ordenar una batidora.```"
     ]
    }
   ],
   "source": [
    "prompt = f\"\"\"\n",
    "将以下中文翻译成西班牙语: \\ \n",
    "```您好，我想订购一个搅拌机。```\n",
    "\"\"\"\n",
    "response = get_completion(prompt)\n",
    "Show(response)\n"
   ]
  },
  {
   "cell_type": "markdown",
   "metadata": {},
   "source": [
    "#### 识别语种"
   ]
  },
  {
   "cell_type": "code",
   "execution_count": 36,
   "metadata": {},
   "outputs": [
    {
     "name": "stdout",
     "output_type": "stream",
     "text": [
      "\n",
      "\n",
      "\n",
      "\n",
      "该文本是法语。\n",
      "\n",
      "\"Combien coûte le lampadaire?\" 的意思是：“这个路灯多少钱？”"
     ]
    }
   ],
   "source": [
    "prompt = f\"\"\"\n",
    "请告诉我以下文本是什么语种: \n",
    "```Combien coûte le lampadaire?```\n",
    "\"\"\"\n",
    "response = get_completion(prompt)\n",
    "Show(response)\n"
   ]
  },
  {
   "cell_type": "markdown",
   "metadata": {},
   "source": [
    "#### 多语种翻译"
   ]
  },
  {
   "cell_type": "code",
   "execution_count": 37,
   "metadata": {},
   "outputs": [
    {
     "name": "stdout",
     "output_type": "stream",
     "text": [
      "\n",
      "\n",
      "\n",
      "\n",
      "```I want to order a basketball.```\n",
      "\n",
      "以下是该句子的翻译：\n",
      "\n",
      "- **中文**：我想订购一个篮球。\n",
      "- **英文**：I want to order a basketball.\n",
      "- **法语**：Je veux commander un ballon de basket.\n",
      "- **西班牙语**：Quiero pedir un balón de básquetbol.\n",
      "\n",
      "请注意：在翻译时，\"basketball\" 作为名词，在中文中是“篮球”，在英文中是“basketball”，在法语中是“ballon de basket”，在西班牙语中是“balón de básquetbol”。"
     ]
    }
   ],
   "source": [
    "prompt = f\"\"\"\n",
    "请将以下文本分别翻译成中文、英文、法语和西班牙语: \n",
    "```I want to order a basketball.```\n",
    "\"\"\"\n",
    "response = get_completion(prompt)\n",
    "Show(response)"
   ]
  },
  {
   "cell_type": "markdown",
   "metadata": {},
   "source": [
    "#### 语气转换"
   ]
  },
  {
   "cell_type": "code",
   "execution_count": 38,
   "metadata": {},
   "outputs": [
    {
     "name": "stdout",
     "output_type": "stream",
     "text": [
      "\n",
      "\n",
      "\n",
      "\n",
      "当然可以，以下是将这句话翻译成中文的两种语气版本：\n",
      "\n",
      "**正式语气：**  \n",
      "您是否想要订购一个枕头？\n",
      "\n",
      "**非正式语气：**  \n",
      "你想不想买个枕头？"
     ]
    }
   ],
   "source": [
    "prompt = f\"\"\"\n",
    "请将以下文本翻译成中文，分别展示成正式与非正式两种语气: \n",
    "```Would you like to order a pillow?```\n",
    "\"\"\"\n",
    "response = get_completion(prompt)\n",
    "Show(response)\n"
   ]
  },
  {
   "cell_type": "markdown",
   "metadata": {},
   "source": [
    "#### 通用翻译工具"
   ]
  },
  {
   "cell_type": "code",
   "execution_count": 39,
   "metadata": {},
   "outputs": [],
   "source": [
    "user_messages = [\n",
    "  \"La performance du système est plus lente que d'habitude.\",  # System performance is slower than normal         \n",
    "  \"Mi monitor tiene píxeles que no se iluminan.\",              # My monitor has pixels that are not lighting\n",
    "  \"Il mio mouse non funziona\",                                 # My mouse is not working\n",
    "  \"Mój klawisz Ctrl jest zepsuty\",                             # My keyboard has a broken control key\n",
    "  \"我的屏幕在闪烁\"                                             # My screen is flashing\n",
    "]"
   ]
  },
  {
   "cell_type": "code",
   "execution_count": 41,
   "metadata": {},
   "outputs": [
    {
     "name": "stdout",
     "output_type": "stream",
     "text": [
      "原始消息 (\n",
      "\n",
      "法语): La performance du système est plus lente que d'habitude.\n",
      "\n",
      "\n",
      "\n",
      "中文翻译：系统性能比平时更慢  \n",
      "英文翻译：The system performance is slower than usual. \n",
      "=========================================\n",
      "原始消息 (\n",
      "\n",
      "西班牙语): Mi monitor tiene píxeles que no se iluminan.\n",
      "\n",
      "\n",
      "\n",
      "中文翻译：我的显示器有不亮的像素。  \n",
      "英文翻译：My monitor has pixels that are not lighting up. \n",
      "=========================================\n",
      "原始消息 (\n",
      "\n",
      "意大利语): Il mio mouse non funziona\n",
      "\n",
      "\n",
      "\n",
      "中文翻译：我的鼠标坏了  \n",
      "英文翻译：My mouse is not working \n",
      "=========================================\n",
      "原始消息 (\n",
      "\n",
      "波兰语): Mój klawisz Ctrl jest zepsuty\n",
      "\n",
      "\n",
      "\n",
      "中文翻译：我的Ctrl键坏了  \n",
      "英文翻译：My Ctrl key is broken \n",
      "=========================================\n",
      "原始消息 (\n",
      "\n",
      "中文): 我的屏幕在闪烁\n",
      "\n",
      "\n",
      "\n",
      "中文翻译：我的屏幕在闪烁  \n",
      "英文翻译：My screen is flickering \n",
      "=========================================\n"
     ]
    }
   ],
   "source": [
    "import time\n",
    "for issue in user_messages:\n",
    "    time.sleep(20)\n",
    "    prompt = f\"告诉我以下文本是什么语种，直接输出语种，如法语，无需输出标点符号: ```{issue}```\"\n",
    "    lang = get_completion(prompt, stream=False)\n",
    "    print(f\"原始消息 ({lang}): {issue}\\n\")\n",
    "\n",
    "    prompt = f\"\"\"\n",
    "    将以下消息分别翻译成英文和中文，并写成\n",
    "    中文翻译：xxx\n",
    "    英文翻译：yyy\n",
    "    的格式：\n",
    "    ```{issue}```\n",
    "    \"\"\"\n",
    "    response = get_completion(prompt, stream=False)\n",
    "    print(response, \"\\n=========================================\")\n"
   ]
  },
  {
   "cell_type": "markdown",
   "metadata": {},
   "source": [
    "### 语气与写作风格调整"
   ]
  },
  {
   "cell_type": "code",
   "execution_count": 48,
   "metadata": {},
   "outputs": [
    {
     "name": "stdout",
     "output_type": "stream",
     "text": [
      "当然，以下是将您提供的文本翻译为正式商务信函格式的版本：\n",
      "\n",
      "---\n",
      "\n",
      "**主题：关于部门显示器采购规格的确认**\n",
      "\n",
      "尊敬的 [对方姓名]：\n",
      "\n",
      "您好！\n",
      "\n",
      "之前您提到我们部门即将采购的显示器尺寸，请问具体是多少寸呢？\n",
      "\n",
      "烦请确认相关细节，以便我们尽快推进采购流程。\n",
      "\n",
      "此致  \n",
      "敬礼\n",
      "\n",
      "[您的姓名]  \n",
      "[您的职位]  \n",
      "[公司名称]  \n",
      "[日期]\n",
      "\n",
      "---\n",
      "\n",
      "如需更具体的语气或格式（例如是否需要抄送、附件等），请告诉我，我可进一步调整。"
     ]
    }
   ],
   "source": [
    "prompt = f\"\"\"\n",
    "将以下文本翻译成商务信函的格式: \n",
    "```小老弟，我小羊，上回你说咱部门要采购的显示器是多少寸来着？```\n",
    "\"\"\"\n",
    "response = get_completion(prompt)\n",
    "ShowWithoutBlanklines(response)"
   ]
  },
  {
   "cell_type": "markdown",
   "metadata": {},
   "source": [
    "### 文件格式转换"
   ]
  },
  {
   "cell_type": "code",
   "execution_count": 49,
   "metadata": {},
   "outputs": [],
   "source": [
    "data_json = { \"resturant employees\" :[ \n",
    "    {\"name\":\"Shyam\", \"email\":\"shyamjaiswal@gmail.com\"},\n",
    "    {\"name\":\"Bob\", \"email\":\"bob32@gmail.com\"},\n",
    "    {\"name\":\"Jai\", \"email\":\"jai87@gmail.com\"}\n",
    "]}"
   ]
  },
  {
   "cell_type": "code",
   "execution_count": 61,
   "metadata": {},
   "outputs": [
    {
     "data": {
      "text/markdown": [
       "你可以使用 Python 将给定的字典转换为 HTML 表格，保留标题和列名。以下是一个示例代码，用来完成这个任务：\n",
       "\n",
       "```python\n",
       "data = {\n",
       "    'resturant employees': [\n",
       "        {'name': 'Shyam', 'email': 'shyamjaiswal@gmail.com'},\n",
       "        {'name': 'Bob', 'email': 'bob32@gmail.com'},\n",
       "        {'name': 'Jai', 'email': 'jai87@gmail.com'}\n",
       "    ]\n",
       "}\n",
       "\n",
       "# 提取表头（列名）\n",
       "headers = data['resturant employees'][0].keys()\n",
       "# 提取表格数据\n",
       "rows = data['resturant employees']\n",
       "\n",
       "# 构建 HTML 表格\n",
       "html_table = \"<table>\\n  <thead>\\n    <tr>\\n\"\n",
       "for header in headers:\n",
       "    html_table += f\"      <th>{header}</th>\\n\"\n",
       "html_table += \"    </tr>\\n  </thead>\\n  <tbody>\\n\"\n",
       "\n",
       "for row in rows:\n",
       "    html_table += \"    <tr>\\n\"\n",
       "    for header in headers:\n",
       "        html_table += f\"      <td>{row[header]}</td>\\n\"\n",
       "    html_table += \"    </tr>\\n\"\n",
       "\n",
       "html_table += \"  </tbody>\\n</table>\"\n",
       "\n",
       "print(html_table)\n",
       "```\n",
       "\n",
       "### 输出结果：\n",
       "```html\n",
       "<table>\n",
       "  <thead>\n",
       "    <tr>\n",
       "      <th>name</th>\n",
       "      <th>email</th>\n",
       "    </tr>\n",
       "  </thead>\n",
       "  <tbody>\n",
       "    <tr>\n",
       "      <td>Shyam</td>\n",
       "      <td>shyamjaiswal@gmail.com</td>\n",
       "    </tr>\n",
       "    <tr>\n",
       "      <td>Bob</td>\n",
       "      <td>bob32@gmail.com</td>\n",
       "    </tr>\n",
       "    <tr>\n",
       "      <td>Jai</td>\n",
       "      <td>jai87@gmail.com</td>\n",
       "    </tr>\n",
       "  </tbody>\n",
       "</table>\n",
       "```\n",
       "\n",
       "### 解释：\n",
       "- `headers` 从第一个字典项中提取字段名（`name` 和 `email`）。\n",
       "- `rows` 遍历所有员工数据。\n",
       "- 构建 HTML 表格时，使用 `<table>`、`<thead>`、`<tbody>`、`<tr>`、`<th>` 和 `<td>` 标签。\n",
       "\n",
       "如果你需要将表格保存到文件或用于网页显示，可以直接输出这个字符串或嵌入到 HTML 页面中。需要调整标题为更友好的格式（比如 `Name` 和 `Email`）也可以继续修改代码。"
      ],
      "text/plain": [
       "<IPython.core.display.Markdown object>"
      ]
     },
     "metadata": {},
     "output_type": "display_data"
    }
   ],
   "source": [
    "prompt = f\"\"\"\n",
    "将以下Python字典从JSON转换为HTML表格，保留表格标题和列名：{data_json}\n",
    "\"\"\"\n",
    "response = get_completion(prompt, stream=False)\n",
    "# ShowWithoutBlanklines(response)\n",
    "display(Markdown(response))\n"
   ]
  },
  {
   "cell_type": "markdown",
   "metadata": {},
   "source": [
    "### 拼写及语法纠正"
   ]
  },
  {
   "cell_type": "code",
   "execution_count": 51,
   "metadata": {},
   "outputs": [],
   "source": [
    "text = [ \n",
    "  \"The girl with the black and white puppies have a ball.\",  # The girl has a ball.\n",
    "  \"Yolanda has her notebook.\", # ok\n",
    "  \"Its going to be a long day. Does the car need it’s oil changed?\",  # Homonyms\n",
    "  \"Their goes my freedom. There going to bring they’re suitcases.\",  # Homonyms\n",
    "  \"Your going to need you’re notebook.\",  # Homonyms\n",
    "  \"That medicine effects my ability to sleep. Have you heard of the butterfly affect?\", # Homonyms\n",
    "  \"This phrase is to cherck chatGPT for spelling abilitty\"  # spelling\n",
    "]\n"
   ]
  },
  {
   "cell_type": "code",
   "execution_count": 55,
   "metadata": {},
   "outputs": [
    {
     "name": "stdout",
     "output_type": "stream",
     "text": [
      "0 The girl with the black and white puppies has a ball.\n",
      "1 Yolanda has her notebook.\n",
      "2 Its going to be a long day. Does the car need its oil changed?\n",
      "3 Their is my freedom. There are going to bring their suitcases.\n",
      "4 Your going to need your notebook.\n",
      "5 That medicine affects my ability to sleep. Have you heard of the butterfly effect?\n",
      "6 This phrase is to check chatGPT for spelling ability.\n"
     ]
    }
   ],
   "source": [
    "for i in range(len(text)):\n",
    "    # time.sleep(5)\n",
    "    prompt = f\"\"\"请校对并更正两个'```'之间所包含的文本，注意纠正文本保持原始语种，无需输出原始文本。输出时去掉'```'。\n",
    "    如果您没有发现任何错误，请说“未发现错误”。\n",
    "    \n",
    "    例如：\n",
    "    输入：I are happy.\n",
    "    输出：I am happy.\n",
    "    ```{text[i]}```\"\"\"\n",
    "    response = get_completion(prompt,stream=False)\n",
    "    print(i, response)\n"
   ]
  },
  {
   "cell_type": "code",
   "execution_count": 56,
   "metadata": {},
   "outputs": [],
   "source": [
    "text = f\"\"\"\n",
    "Got this for my daughter for her birthday cuz she keeps taking \\\n",
    "mine from my room.  Yes, adults also like pandas too.  She takes \\\n",
    "it everywhere with her, and it's super soft and cute.  One of the \\\n",
    "ears is a bit lower than the other, and I don't think that was \\\n",
    "designed to be asymmetrical. It's a bit small for what I paid for it \\\n",
    "though. I think there might be other options that are bigger for \\\n",
    "the same price.  It arrived a day earlier than expected, so I got \\\n",
    "to play with it myself before I gave it to my daughter.\n",
    "\"\"\"\n"
   ]
  },
  {
   "cell_type": "code",
   "execution_count": 57,
   "metadata": {},
   "outputs": [
    {
     "name": "stdout",
     "output_type": "stream",
     "text": [
      "当然，以下是对这段评论的校对和更正版本，使其更加通顺、规范且符合书面表达习惯：\n",
      "\n",
      "---\n",
      "\n",
      "I got this for my daughter for her birthday because she keeps taking mine from my room. Yes, adults also like pandas too. She takes it everywhere with her, and it's super soft and cute. One of the ears is a bit lower than the other, and I don't think that was designed to be asymmetrical. It's a bit small for what I paid for it, though. I think there might be other options that are bigger for the same price. It arrived a day earlier than expected, so I got to play with it myself before I gave it to my daughter.\n",
      "\n",
      "---\n",
      "\n",
      "如需更正式或更简洁的版本，也可以提供。以下是更正式的版本供参考：\n",
      "\n",
      "---\n",
      "\n",
      "I purchased this panda for my daughter for her birthday, as she keeps taking mine from my room. Adults also enjoy pandas, and she carries this one around everywhere with her. It's very soft and cute. However, one of the ears is slightly lower than the other, which seems unintentional and not designed to be asymmetrical. The size feels a bit small for the price I paid, and I wonder if there are larger options available at the same cost. It arrived a day earlier than expected, allowing me to enjoy it before giving it to my daughter.\n",
      "\n",
      "--- \n",
      "\n",
      "你可以根据用途选择合适的版本。需要的话我也可以帮你润色为更偏向于产品评价的风格。\n"
     ]
    }
   ],
   "source": [
    "prompt = f\"校对并更正以下商品评论：```{text}```\"\n",
    "response = get_completion(prompt, stream=False)\n",
    "print(response)\n"
   ]
  },
  {
   "cell_type": "markdown",
   "metadata": {},
   "source": [
    "### 综合样例"
   ]
  },
  {
   "cell_type": "code",
   "execution_count": 62,
   "metadata": {},
   "outputs": [
    {
     "data": {
      "text/markdown": [
       "【优点】  \n",
       "这个玩具熊猫非常柔软可爱，特别适合孩子抱着玩耍，陪伴感强，能让孩子随身携带，增加互动乐趣。快递也挺准时，提前一天送达，让我有机会先体验一下产品。\n",
       "\n",
       "【缺点】  \n",
       "熊猫的耳朵有点不对称，一个比另一个低，看起来不太协调，可能影响美观。另外，尺寸偏小，对于这个价格来说，感觉性价比一般，或许有更大尺寸的款式可供选择。\n",
       "\n",
       "【总结】  \n",
       "总体来说是一款可爱柔软的玩具，适合儿童使用，但耳朵设计和尺寸略显不足，希望品牌能考虑优化。如果对细节和尺寸要求不高，还是值得购买的。"
      ],
      "text/plain": [
       "<IPython.core.display.Markdown object>"
      ]
     },
     "metadata": {},
     "output_type": "display_data"
    }
   ],
   "source": [
    "prompt = f\"\"\"\n",
    "针对以下三个反引号之间的英文评论文本，\n",
    "首先进行拼写及语法纠错，\n",
    "然后将其转化成中文，\n",
    "再将其转化成优质淘宝评论的风格，从各种角度出发，分别说明产品的优点与缺点，并进行总结。\n",
    "润色一下描述，使评论更具有吸引力。\n",
    "输出结果格式为：\n",
    "【优点】xxx\n",
    "【缺点】xxx\n",
    "【总结】xxx\n",
    "注意，只需填写xxx部分，并分段输出。\n",
    "将结果输出成Markdown格式。\n",
    "```{text}```\n",
    "\"\"\"\n",
    "response = get_completion(prompt, stream=False)\n",
    "display(Markdown(response))\n"
   ]
  },
  {
   "cell_type": "markdown",
   "metadata": {},
   "source": [
    "## 文本扩展"
   ]
  },
  {
   "cell_type": "markdown",
   "metadata": {},
   "source": [
    "### 定制客户邮件"
   ]
  },
  {
   "cell_type": "code",
   "execution_count": 63,
   "metadata": {},
   "outputs": [],
   "source": [
    "# 我们可以在推理那章学习到如何对一个评论判断其情感倾向\n",
    "sentiment = \"消极的\"\n",
    "\n",
    "# 一个产品的评价\n",
    "review = f\"\"\"\n",
    "他们在11月份的季节性销售期间以约49美元的价格出售17件套装，折扣约为一半。\\\n",
    "但由于某些原因（可能是价格欺诈），到了12月第二周，同样的套装价格全都涨到了70美元到89美元不等。\\\n",
    "11件套装的价格也上涨了大约10美元左右。\\\n",
    "虽然外观看起来还可以，但基座上锁定刀片的部分看起来不如几年前的早期版本那么好。\\\n",
    "不过我打算非常温柔地使用它，例如，\\\n",
    "我会先在搅拌机中将像豆子、冰、米饭等硬物研磨，然后再制成所需的份量，\\\n",
    "切换到打蛋器制作更细的面粉，或者在制作冰沙时先使用交叉切割刀片，然后使用平面刀片制作更细/不粘的效果。\\\n",
    "制作冰沙时，特别提示：\\\n",
    "将水果和蔬菜切碎并冷冻（如果使用菠菜，则轻轻煮软菠菜，然后冷冻直到使用；\\\n",
    "如果制作果酱，则使用小到中号的食品处理器），这样可以避免在制作冰沙时添加太多冰块。\\\n",
    "大约一年后，电机发出奇怪的噪音，我打电话给客服，但保修已经过期了，所以我不得不再买一个。\\\n",
    "总的来说，这些产品的总体质量已经下降，因此它们依靠品牌认可和消费者忠诚度来维持销售。\\\n",
    "货物在两天内到达。\n",
    "\"\"\"\n"
   ]
  },
  {
   "cell_type": "code",
   "execution_count": 64,
   "metadata": {},
   "outputs": [
    {
     "name": "stdout",
     "output_type": "stream",
     "text": [
      "主题：感谢您的反馈 – 我们重视您的意见\n",
      "\n",
      "尊敬的客户，\n",
      "\n",
      "您好！\n",
      "\n",
      "首先，衷心感谢您抽出宝贵时间分享您的使用体验。我们非常重视每一位消费者的反馈，尤其是像您这样长期使用我们产品并愿意与我们交流的客户。\n",
      "\n",
      "您提到在11月份的季节性销售期间，17件套装的价格约为49美元，折扣幅度明显，体现了我们对促销活动的重视。然而，进入12月第二周后，价格却有所上调，这可能与您所说的“价格欺诈”有关，我们对此表示理解，并将向相关部门反馈以确保促销政策的透明与公正。\n",
      "\n",
      "您还指出，基座上锁定刀片的部分不如早期版本稳固，这确实影响了使用体验。我们理解您为了延长使用寿命所采取的细致使用方式，例如先处理硬物再转换刀片，这种做法非常明智，我们也会将您的使用建议整理反馈给产品设计团队。\n",
      "\n",
      "虽然您最终因为电机噪音而不得不更换产品，但您在使用过程中仍保持耐心与细心，体现出对产品质量的认真考量。我们对此深表感激，也非常遗憾未能在保修期内为您提供及时的支持。\n",
      "\n",
      "对于您提到的总体质量下降问题，我们完全理解您的担忧。品牌认可和消费者忠诚度确实是产品持续销售的重要因素，我们也将持续改进产品品质，以更好地满足您的期望。\n",
      "\n",
      "感谢您对我们产品的关注与支持，同时也感谢您在使用过程中的细致反馈。我们期待未来能为您提供更优质的服务与产品。\n",
      "\n",
      "此致  \n",
      "敬礼\n",
      "\n",
      "AI客户代理  \n",
      "[您的公司名称]  \n",
      "[联系方式]\n"
     ]
    }
   ],
   "source": [
    "prompt = f\"\"\"\n",
    "你是一位客户服务的AI助手。\n",
    "你的任务是给一位重要客户发送邮件回复。\n",
    "根据客户通过“```”分隔的评价，生成回复以感谢客户的评价。提醒模型使用评价中的具体细节\n",
    "用简明而专业的语气写信。\n",
    "作为“AI客户代理”签署电子邮件。\n",
    "客户评论：\n",
    "```{review}```\n",
    "评论情感：{sentiment}\n",
    "\"\"\"\n",
    "response = get_completion(prompt, stream=False)\n",
    "print(response)\n"
   ]
  },
  {
   "cell_type": "markdown",
   "metadata": {},
   "source": [
    "### 引入温度系数"
   ]
  },
  {
   "cell_type": "code",
   "execution_count": 66,
   "metadata": {},
   "outputs": [
    {
     "name": "stdout",
     "output_type": "stream",
     "text": [
      "主题：感谢您的反馈并表达歉意\n",
      "\n",
      "尊敬的客户，\n",
      "\n",
      "感谢您花时间分享您的使用体验。我们非常重视您的意见，并对您在11月份季节性销售期间购买17件套装的经历表示感谢，尤其是您提到的折扣幅度约为一半，这体现了我们促销活动的吸引力。\n",
      "\n",
      "然而，我们注意到您在12月第二周发现同样的套装价格有所上涨，这可能与您提到的“价格欺诈”有关。对此，我们深表歉意，并会认真审查我们的定价策略，以确保所有客户都能获得公平的待遇。\n",
      "\n",
      "此外，您提到基座上锁定刀片的部分不如早期版本牢固，这确实是我们需要改进的地方。我们理解您为了延长使用寿命，采取了较为细致的使用方式，如先研磨硬物再制作细腻的面粉，以及使用交叉切割刀片和冷冻水果蔬菜等方法，这种使用方式值得赞赏。\n",
      "\n",
      "关于您在使用一年后电机发出奇怪噪音的情况，我们同样感到遗憾。虽然您提到保修已过期，但我们仍建议您在使用过程中如遇到任何问题，随时联系我们的客户服务团队，以便我们为您提供尽可能的帮助。\n",
      "\n",
      "总体而言，您指出的产品质量有所下降，这对我们来说是一个重要的反馈。我们将努力提升产品质量与用户体验，以更好地满足您的期望。\n",
      "\n",
      "再次感谢您的宝贵意见，希望未来能为您提供更优质的服务。\n",
      "\n",
      "此致  \n",
      "敬礼  \n",
      "\n",
      "AI客户代理\n"
     ]
    }
   ],
   "source": [
    "# 第一次运行\n",
    "prompt = f\"\"\"\n",
    "你是一名客户服务的AI助手。\n",
    "你的任务是给一位重要的客户发送邮件回复。\n",
    "根据通过“```”分隔的客户电子邮件生成回复，以感谢客户的评价。\n",
    "如果情感是积极的或中性的，感谢他们的评价。\n",
    "如果情感是消极的，道歉并建议他们联系客户服务。\n",
    "请确保使用评论中的具体细节。\n",
    "以简明和专业的语气写信。\n",
    "以“AI客户代理”的名义签署电子邮件。\n",
    "客户评价：```{review}```\n",
    "评论情感：{sentiment}\n",
    "\"\"\"\n",
    "response = get_completion(prompt, temperature=0.7, stream=False)\n",
    "print(response)\n"
   ]
  },
  {
   "cell_type": "code",
   "execution_count": 67,
   "metadata": {},
   "outputs": [
    {
     "name": "stdout",
     "output_type": "stream",
     "text": [
      "主题：感谢您的反馈，并为您的不便致歉\n",
      "\n",
      "尊敬的客户，\n",
      "\n",
      "感谢您花时间分享您的使用体验。我们非常重视您的意见，并对您在11月份季节性销售期间购买17件套装的经历表示理解。\n",
      "\n",
      "我们注意到您提到在12月第二周，套装的价格有所上涨，从约49美元升至70至89美元不等，而11件套装的价格也上涨了约10美元。此外，您对基座上锁定刀片的部分表示不满，认为其不如早期版本。我们对此深感抱歉，也理解您因此调整了使用方式，以延长产品的使用寿命。\n",
      "\n",
      "我们非常抱歉在您使用产品约一年后，电机出现异常噪音，且此时已超出保修期，导致您不得不重新购买。我们深知这会给您带来不便，也感谢您及时反馈这一问题。\n",
      "\n",
      "总的来说，您的反馈表明您对产品的整体质量有所担忧，并指出其依赖品牌认可和消费者忠诚度来维持销售。我们将认真考虑您的建议，并努力在未来的改进中提升产品质量与服务体验。\n",
      "\n",
      "再次为此次不愉快的经历向您致歉，如您有任何进一步的问题，欢迎随时联系我们的客户服务团队。\n",
      "\n",
      "此致  \n",
      "敬礼  \n",
      "\n",
      "AI客户代理\n"
     ]
    }
   ],
   "source": [
    "# 第二次运行\n",
    "prompt = f\"\"\"\n",
    "你是一名客户服务的AI助手。\n",
    "你的任务是给一位重要的客户发送邮件回复。\n",
    "根据通过“```”分隔的客户电子邮件生成回复，以感谢客户的评价。\n",
    "如果情感是积极的或中性的，感谢他们的评价。\n",
    "如果情感是消极的，道歉并建议他们联系客户服务。\n",
    "请确保使用评论中的具体细节。\n",
    "以简明和专业的语气写信。\n",
    "以“AI客户代理”的名义签署电子邮件。\n",
    "客户评价：```{review}```\n",
    "评论情感：{sentiment}\n",
    "\"\"\"\n",
    "response = get_completion(prompt, temperature=0.7, stream=False)\n",
    "print(response)\n"
   ]
  },
  {
   "cell_type": "markdown",
   "metadata": {},
   "source": [
    "## 聊天机器人"
   ]
  },
  {
   "cell_type": "markdown",
   "metadata": {},
   "source": [
    "### 讲笑话"
   ]
  },
  {
   "cell_type": "code",
   "execution_count": 70,
   "metadata": {},
   "outputs": [],
   "source": [
    "# 中文\n",
    "messages =  [  \n",
    "{'role':'system', 'content':'你是一个像莎士比亚一样说话的助手。'},    \n",
    "{'role':'user', 'content':'给我讲个笑话'},   \n",
    "{'role':'assistant', 'content':'鸡为什么过马路'},   \n",
    "{'role':'user', 'content':'我不知道'}  ]\n"
   ]
  },
  {
   "cell_type": "code",
   "execution_count": 71,
   "metadata": {},
   "outputs": [
    {
     "name": "stdout",
     "output_type": "stream",
     "text": [
      "啊，亲爱的，你若不知这鸡为何横穿那幽暗的林荫小道，让我为你娓娓道来。它非为觅食，亦非为躲避暴风雨，而是——只为与另一只鸡缔结永恒之约！正如维纳斯与丘比特在《罗密欧与朱丽叶》中以爱之名穿越火线，此鸡亦效仿其勇敢，纵使前路荆棘满布，亦誓要促成两相悦的姻缘。然世事难料，它竟在途中被一只狐狸拦下，狐狸狡黠一笑：“汝违誓矣，小鸡！”鸡瞠目结舌，答曰：“吾乃为爱而行，岂因汝等之阻而止？”于是，两兽在月光下展开一场史诗级的辩论，结局如何？容我剧透——狐狸终败，鸡则得了一枚金蛋，与其情人共度余生。你可见过这般浪漫的动物寓言？\n"
     ]
    }
   ],
   "source": [
    "response = get_completion_from_messages(messages, temperature=1, stream=False)\n",
    "print(response)\n"
   ]
  },
  {
   "cell_type": "markdown",
   "metadata": {},
   "source": [
    "### 友好的聊天机器人"
   ]
  },
  {
   "cell_type": "code",
   "execution_count": 72,
   "metadata": {},
   "outputs": [
    {
     "name": "stdout",
     "output_type": "stream",
     "text": [
      "你好呀！我是Qwen，很高兴认识你，Isa！今天过得怎么样呀？有什么我可以帮你的吗？😊\n"
     ]
    }
   ],
   "source": [
    "# 中文\n",
    "messages =  [  \n",
    "{'role':'system', 'content':'你是个友好的聊天机器人。'},    \n",
    "{'role':'user', 'content':'Hi, 我是Isa。'}  ]\n",
    "response = get_completion_from_messages(messages, temperature=1, stream=False)\n",
    "\n",
    "print(response)\n"
   ]
  },
  {
   "cell_type": "markdown",
   "metadata": {},
   "source": [
    "### 构建上下文"
   ]
  },
  {
   "cell_type": "code",
   "execution_count": null,
   "metadata": {},
   "outputs": [
    {
     "name": "stdout",
     "output_type": "stream",
     "text": [
      "哦，我好像不太记得了！不过没关系，我们可以一起想一下，你有什么特别的昵称或者小名吗？\n"
     ]
    }
   ],
   "source": [
    "# 没给出上下文的情况\n",
    "messages =  [  \n",
    "{'role':'system', 'content':'你是个友好的聊天机器人。'},    \n",
    "{'role':'user', 'content':'好，你能提醒我，我的名字是什么吗？'}  ]\n",
    "response = get_completion_from_messages(messages, temperature=1, stream=False)\n",
    "print(response)\n"
   ]
  },
  {
   "cell_type": "code",
   "execution_count": null,
   "metadata": {},
   "outputs": [
    {
     "data": {
      "text/markdown": [
       "推理模型（如大型语言模型、逻辑推理模型、类人推理系统等）的进步正在迅速改变各行业的运作方式，并为市场带来了许多新的机会。以下是推理模型给市场带来的主要机会，涵盖各个行业和应用场景：\n",
       "\n",
       "---\n",
       "\n",
       "## 一、**人工智能与自动化领域的机会**\n",
       "\n",
       "1. **更先进的AI产品与服务**\n",
       "   - 推理模型使AI具备更强的理解、分析和决策能力，推动AI从执行固定任务转向更复杂的智能推理，进而催生如智能化客服、法律咨询AI、医疗诊断助手等高质量AI产品和服务。\n",
       "\n",
       "2. **企业自动化升级**\n",
       "   - 推理模型可以集成到企业内部系统中，实现**智能问答**、**自动化流程优化**、**合同分析**、**数据挖掘**等功能，降低人力成本，提高运营效率。\n",
       "\n",
       "3. **个性化服务自动化**\n",
       "   - 在客户服务领域，推理模型能够提供**个性化推荐、自动答疑、智能客服、情绪识别**等服务，提升用户体验并优化企业服务流程。\n",
       "\n",
       "---\n",
       "\n",
       "## 二、**金融科技领域的机会**\n",
       "\n",
       "1. **智能投顾和风险管理**\n",
       "   - 推理模型可以分析大量金融数据，提供个性化的投资建议，甚至模拟市场行为预测风险，帮助投资者和金融机构做出更科学的决策。\n",
       "\n",
       "2. **实时数据分析与决策**\n",
       "   - 金融行业依赖快节奏的数据处理与决策，推理模型可以实时分析市场动态、股票走势、消费者行为等，为高频交易、供应链金融、信贷评级提供支持。\n",
       "\n",
       "3. **合规与反欺诈**\n",
       "   - 推理模型能识别异常交易行为、判断合规风险、生成合规报告，提升金融机构在监管环境下的合规效率和准确性。\n",
       "\n",
       "---\n",
       "\n",
       "## 三、**医疗与健康领域的机会**\n",
       "\n",
       "1. **智能辅助诊断**\n",
       "   - 推理模型可以协助医生进行疾病预测、症状分析、病理解读和治疗推荐，尤其在远程医疗、基层医疗资源匮乏的地方具有重要价值。\n",
       "\n",
       "2. **药物研发与个性化治疗**\n",
       "   - 通过分析基因组数据、医学文献和临床试验结果，推理模型可以加速新药研发，并辅助制定个性化治疗方案。\n",
       "\n",
       "3. **健康管理与预测**\n",
       "   - 利用推理模型对用户的健康数据（如可穿戴设备数据）进行分析，可以实现疾病风险预测、健康行为建议，甚至提前发现慢病易发症状，提高健康管理效率。\n",
       "\n",
       "---\n",
       "\n",
       "## 四、**教育领域的机会**\n",
       "\n",
       "1. **智能教学系统**\n",
       "   - 推理模型可以根据学生的学习行为和成绩动态调整教学内容和难度，实现**个性化教学**，提高学习效率。\n",
       "\n",
       "2. **自动生成和批改作业**\n",
       "   - 推理模型可以自动创建练习题目、批改考试答案，甚至进行错题分析和学习建议，实现教学流程的智能化。\n",
       "\n",
       "3. **教育内容智能生成**\n",
       "   - 教育内容的创作可以借助推理模型，实现**知识图谱构建**、**课程内容自动生成**、**教学视频脚本生成**等，节省教育资源成本。\n",
       "\n",
       "---\n",
       "\n",
       "## 五、**市场营销与广告领域的机会**\n",
       "\n",
       "1. **智能营销与精准投放**\n",
       "   - 推理模型可以分析用户行为、搜索习惯、社交互动等，实现**个性化广告推荐**、**精准营销策略制定**，提高广告转化率。\n",
       "\n",
       "2. **客户行为预测与分析**\n",
       "   - 通过推理模型分析客户数据和反馈，预测用户的兴趣偏好，帮助企业提前进行市场布局。\n",
       "\n",
       "3. **内容创作与用户互动**\n",
       "   - 推理模型可用于自动生成营销文案、社交媒体内容、视频脚本，提高内容生产效率。也能进行**虚拟客服**、**智能客服**等互动，增强用户体验。\n",
       "\n",
       "---\n",
       "\n",
       "## 六、**制造业与工业领域的机会**\n",
       "\n",
       "1. **预测性维护**\n",
       "   - 推理模型可以基于设备运行数据预测设备故障，实现**预测性维护**，降低停机时间和维修成本。\n",
       "\n",
       "2. **智能制造与流程优化**\n",
       "   - 推理模型可用于优化生产流程、改进工艺、进行资源调度，提高制造效率、降低成本、减少浪费。\n",
       "\n",
       "3. **供应链智能管理**\n",
       "   - 通过推理模型分析市场趋势、物流信息、库存数据等，实现**智能供应链管理**，提升企业应变能力。\n",
       "\n",
       "---\n",
       "\n",
       "## 七、**法律与合规领域的机会**\n",
       "\n",
       "1. **法律咨询与文件解析**\n",
       "   - 推理模型可以辅助法律从业者进行合同审查、法律条文解读、案例分析、法律文书生成，节省时间并降低错误率。\n",
       "\n",
       "2. **合规与政策风险评估**\n",
       "   - 推理模型可以分析企业的行为与现行法律法规，进行合规检查和法律风险预测，帮助企业规避法律问题。\n",
       "\n",
       "3. **自动化案件处理**\n",
       "   - 一些推理模型已具备处理简易法律案件的能力，例如合同纠纷、劳动仲裁、知识产权申请等，实现**法律事务自动化**。\n",
       "\n",
       "---\n",
       "\n",
       "## 八、**内容创作与媒体行业的机会**\n",
       "\n",
       "1. **新闻写作与内容生成**\n",
       "   - 推理模型可以自动化撰写新闻稿、报告、科普文章等，尤其是在体育赛事、财报解读、科技创新等领域。\n",
       "\n",
       "2. **创意内容生成**\n",
       "   - 推理模型可以用于创意写作、剧本创作、音乐歌词生成、广告创意等，为创意产业带来新的灵感来源。\n",
       "\n",
       "3. **内容推荐与多元筛选**\n",
       "   - 推理模型可以基于用户兴趣、阅读习惯和行为数据，推荐个性化内容，提升内容消费效率。\n",
       "\n",
       "---\n",
       "\n",
       "## 九、**农业与环境领域的机会**\n",
       "\n",
       "1. **农业智能决策**\n",
       "   - 推理模型可用于分析气候、土壤、市场需求等信息，帮助农民进行种植决策、资源调配和供应链管理，提高农业产出与效率。\n",
       "\n",
       "2. **环境保护与预测**\n",
       "   - 推理模型可以预测环境污染趋势、评估生态影响、优化环保措施，助力可持续发展。\n",
       "\n",
       "---\n",
       "\n",
       "## 十、**娱乐与游戏领域的机会**\n",
       "\n",
       "1. **游戏内容生成与互动**\n",
       "   - 推理模型可以自动生成游戏剧情、角色对话、故事分支，提升游戏的智能化程度和可玩性。\n",
       "\n",
       "2. **个性化娱乐体验**\n",
       "   - 推理模型可根据用户的兴趣、历史行为和情绪数据，提供个性化的内容推荐和互动体验，提升用户粘性。\n",
       "\n",
       "---\n",
       "\n",
       "## 十一、**政务与智慧城市领域的机会**\n",
       "\n",
       "1. **政务智能助手**\n",
       "   - 推理模型可在政务系统中担任智能问答、政策解读、文件生成等功能，提高政府公共服务的效率和质量。\n",
       "\n",
       "2. **城市交通与资源调度**\n",
       "   - 推理模型可用于城市交通调度、公共交通优化、能源管理、灾害预警等，助力智慧城市建设。\n",
       "\n",
       "3. **情报分析与政策建议**\n",
       "   - 推理模型可以分析经济、社会、政策等大数据，提供决策支持，优化政策制定流程。\n",
       "\n",
       "---\n",
       "\n",
       "## 十二、**科学研究与技术开发领域的机会**\n",
       "\n",
       "1. **科研辅助与文献分析**\n",
       "   - 推理模型可以帮助科学家自动整理文献、提取关键信息、生成科研汇报、辅助论文撰写，提升科研效率。\n",
       "\n",
       "2. **科学假设生成与实验设计**\n",
       "   - 在某些科学领域，推理模型可以模拟实验过程，帮助科学家生成假设、优化实验设计，推动科学研究进展。\n",
       "\n",
       "---\n",
       "\n",
       "## 总结：推理模型带来的市场机会\n",
       "\n",
       "| 领域            | 主要机会                                                                 |\n",
       "|-----------------|--------------------------------------------------------------------------|\n",
       "| 人工智能        | 高效AI产品、自动化流程、智能交互工具                                  |\n",
       "| 金融科技        | 智能投顾、实时风控、合规管理                                            |\n",
       "| 医疗健康        | 辅助诊断、个性化治疗、健康管理预测                                     |\n",
       "| 教育            | 个性化教学、自动生成内容、智能批改                                     |\n",
       "| 市场营销        | 智能推荐、精准广告、用户行为预测                                       |\n",
       "| 制造业          | 智能制造、预测性维护、供应链优化                                       |\n",
       "| 法律与合规      | 合规检查、法律咨询、智能案件处理                                         |\n",
       "| 内容创作        | 新闻写作、创意内容、视频脚本生成                                         |\n",
       "| 农业与环境      | 农业决策、环境预测、资源优化                                           |\n",
       "| 娱乐与游戏      | 游戏内容生成、个性化娱乐体验                                             |\n",
       "| 政务与智慧城市    | 智能政务、城市资源调度、情报分析                                       |\n",
       "| 科学研究        | 文献分析、假设生成、实验优化                                             |\n",
       "\n",
       "---\n",
       "\n",
       "## 未来展望\n",
       "\n",
       "随着推理模型在语义理解、上下文学习和逻辑推理方面的不断提升，其应用场景会进一步拓展。未来，推理模型可能会成为一种**基础基础设施**，广泛应用于企业、政府、科研机构、个人等各个层面，带来**更智能、更高效、更个性化的市场解决方案**。\n",
       "\n",
       "如果你是创业者或投资者，推理模型的出现意味着你有更多机会开发**垂直行业应用**、**智能化服务**、**决策辅助工具**等，也可以考虑如何在**数据安全、模型伦理、用户体验优化**等方面打造差异化的竞争力。"
      ],
      "text/plain": [
       "<IPython.core.display.Markdown object>"
      ]
     },
     "metadata": {},
     "output_type": "display_data"
    }
   ],
   "source": [
    "# 使用示例\n",
    "from IPython.display import display, Markdown\n",
    "\n",
    "response = get_completion(\"推理模型会给市场带来哪些新的机会\", stream=False)\n",
    "\n",
    "display(Markdown(response))"
   ]
  },
  {
   "cell_type": "code",
   "execution_count": null,
   "metadata": {},
   "outputs": [
    {
     "name": "stdout",
     "output_type": "stream",
     "text": [
      "你叫Isa！很高兴能和你聊天～需要我帮你做点什么吗？😊\n"
     ]
    }
   ],
   "source": [
    "# 给出了上下文的情况\n",
    "messages =  [  \n",
    "{'role':'system', 'content':'你是个友好的聊天机器人。'},\n",
    "{'role':'user', 'content':'Hi, 我是Isa'},\n",
    "{'role':'assistant', 'content': \"Hi Isa! 很高兴认识你。今天有什么可以帮到你的吗?\"},\n",
    "{'role':'user', 'content':'是的，你可以提醒我, 我的名字是什么?'}  ]\n",
    "response = get_completion_from_messages(messages, temperature=1, stream=False)\n",
    "\n",
    "print(response)\n"
   ]
  },
  {
   "cell_type": "markdown",
   "metadata": {},
   "source": [
    "### 订餐机器人"
   ]
  },
  {
   "cell_type": "code",
   "execution_count": 80,
   "metadata": {},
   "outputs": [],
   "source": [
    "def collect_messages(_):\n",
    "    prompt = inp.value_input\n",
    "    inp.value = ''\n",
    "    context.append({'role':'user', 'content':f\"{prompt}\"})\n",
    "    response = get_completion_from_messages(context, stream=False) \n",
    "    context.append({'role':'assistant', 'content':f\"{response}\"})\n",
    "    panels.append(\n",
    "        pn.Row('User:', pn.pane.Markdown(prompt, width=600)))\n",
    "    panels.append(\n",
    "        pn.Row('Assistant:', pn.pane.Markdown(response, width=600)))\n",
    " \n",
    "    return pn.Column(*panels)\n"
   ]
  },
  {
   "cell_type": "code",
   "execution_count": null,
   "metadata": {},
   "outputs": [
    {
     "data": {
      "text/html": [
       "<script type=\"esms-options\">{\"shimMode\": true}</script><style>*[data-root-id],\n",
       "*[data-root-id] > * {\n",
       "  box-sizing: border-box;\n",
       "  font-family: var(--jp-ui-font-family);\n",
       "  font-size: var(--jp-ui-font-size1);\n",
       "  color: var(--vscode-editor-foreground, var(--jp-ui-font-color1));\n",
       "}\n",
       "\n",
       "/* Override VSCode background color */\n",
       ".cell-output-ipywidget-background:has(\n",
       "    > .cell-output-ipywidget-background > .lm-Widget > *[data-root-id]\n",
       "  ),\n",
       ".cell-output-ipywidget-background:has(> .lm-Widget > *[data-root-id]) {\n",
       "  background-color: transparent !important;\n",
       "}\n",
       "</style>"
      ]
     },
     "metadata": {},
     "output_type": "display_data"
    },
    {
     "data": {
      "application/javascript": "(function(root) {\n  function now() {\n    return new Date();\n  }\n\n  const force = true;\n  const py_version = '3.7.3'.replace('rc', '-rc.').replace('.dev', '-dev.');\n  const reloading = false;\n  const Bokeh = root.Bokeh;\n\n  // Set a timeout for this load but only if we are not already initializing\n  if (typeof (root._bokeh_timeout) === \"undefined\" || (force || !root._bokeh_is_initializing)) {\n    root._bokeh_timeout = Date.now() + 5000;\n    root._bokeh_failed_load = false;\n  }\n\n  function run_callbacks() {\n    try {\n      root._bokeh_onload_callbacks.forEach(function(callback) {\n        if (callback != null)\n          callback();\n      });\n    } finally {\n      delete root._bokeh_onload_callbacks;\n    }\n    console.debug(\"Bokeh: all callbacks have finished\");\n  }\n\n  function load_libs(css_urls, js_urls, js_modules, js_exports, callback) {\n    if (css_urls == null) css_urls = [];\n    if (js_urls == null) js_urls = [];\n    if (js_modules == null) js_modules = [];\n    if (js_exports == null) js_exports = {};\n\n    root._bokeh_onload_callbacks.push(callback);\n\n    if (root._bokeh_is_loading > 0) {\n      // Don't load bokeh if it is still initializing\n      console.debug(\"Bokeh: BokehJS is being loaded, scheduling callback at\", now());\n      return null;\n    } else if (js_urls.length === 0 && js_modules.length === 0 && Object.keys(js_exports).length === 0) {\n      // There is nothing to load\n      run_callbacks();\n      return null;\n    }\n\n    function on_load() {\n      root._bokeh_is_loading--;\n      if (root._bokeh_is_loading === 0) {\n        console.debug(\"Bokeh: all BokehJS libraries/stylesheets loaded\");\n        run_callbacks()\n      }\n    }\n    window._bokeh_on_load = on_load\n\n    function on_error(e) {\n      const src_el = e.srcElement\n      console.error(\"failed to load \" + (src_el.href || src_el.src));\n    }\n\n    const skip = [];\n    if (window.requirejs) {\n      window.requirejs.config({'packages': {}, 'paths': {}, 'shim': {}});\n      root._bokeh_is_loading = css_urls.length + 0;\n    } else {\n      root._bokeh_is_loading = css_urls.length + js_urls.length + js_modules.length + Object.keys(js_exports).length;\n    }\n\n    const existing_stylesheets = []\n    const links = document.getElementsByTagName('link')\n    for (let i = 0; i < links.length; i++) {\n      const link = links[i]\n      if (link.href != null) {\n        existing_stylesheets.push(link.href)\n      }\n    }\n    for (let i = 0; i < css_urls.length; i++) {\n      const url = css_urls[i];\n      const escaped = encodeURI(url)\n      if (existing_stylesheets.indexOf(escaped) !== -1) {\n        on_load()\n        continue;\n      }\n      const element = document.createElement(\"link\");\n      element.onload = on_load;\n      element.onerror = on_error;\n      element.rel = \"stylesheet\";\n      element.type = \"text/css\";\n      element.href = url;\n      console.debug(\"Bokeh: injecting link tag for BokehJS stylesheet: \", url);\n      document.body.appendChild(element);\n    }    var existing_scripts = []\n    const scripts = document.getElementsByTagName('script')\n    for (let i = 0; i < scripts.length; i++) {\n      var script = scripts[i]\n      if (script.src != null) {\n        existing_scripts.push(script.src)\n      }\n    }\n    for (let i = 0; i < js_urls.length; i++) {\n      const url = js_urls[i];\n      const escaped = encodeURI(url)\n      if (skip.indexOf(escaped) !== -1 || existing_scripts.indexOf(escaped) !== -1) {\n        if (!window.requirejs) {\n          on_load();\n        }\n        continue;\n      }\n      const element = document.createElement('script');\n      element.onload = on_load;\n      element.onerror = on_error;\n      element.async = false;\n      element.src = url;\n      console.debug(\"Bokeh: injecting script tag for BokehJS library: \", url);\n      document.head.appendChild(element);\n    }\n    for (let i = 0; i < js_modules.length; i++) {\n      const url = js_modules[i];\n      const escaped = encodeURI(url)\n      if (skip.indexOf(escaped) !== -1 || existing_scripts.indexOf(escaped) !== -1) {\n        if (!window.requirejs) {\n          on_load();\n        }\n        continue;\n      }\n      var element = document.createElement('script');\n      element.onload = on_load;\n      element.onerror = on_error;\n      element.async = false;\n      element.src = url;\n      element.type = \"module\";\n      console.debug(\"Bokeh: injecting script tag for BokehJS library: \", url);\n      document.head.appendChild(element);\n    }\n    for (const name in js_exports) {\n      const url = js_exports[name];\n      const escaped = encodeURI(url)\n      if (skip.indexOf(escaped) >= 0 || root[name] != null) {\n        if (!window.requirejs) {\n          on_load();\n        }\n        continue;\n      }\n      var element = document.createElement('script');\n      element.onerror = on_error;\n      element.async = false;\n      element.type = \"module\";\n      console.debug(\"Bokeh: injecting script tag for BokehJS library: \", url);\n      element.textContent = `\n      import ${name} from \"${url}\"\n      window.${name} = ${name}\n      window._bokeh_on_load()\n      `\n      document.head.appendChild(element);\n    }\n    if (!js_urls.length && !js_modules.length) {\n      on_load()\n    }\n  };\n\n  function inject_raw_css(css) {\n    const element = document.createElement(\"style\");\n    element.appendChild(document.createTextNode(css));\n    document.body.appendChild(element);\n  }\n\n  const js_urls = [\"https://cdn.holoviz.org/panel/1.7.1/dist/bundled/reactiveesm/es-module-shims@^1.10.0/dist/es-module-shims.min.js\", \"https://cdn.bokeh.org/bokeh/release/bokeh-3.7.3.min.js\", \"https://cdn.bokeh.org/bokeh/release/bokeh-gl-3.7.3.min.js\", \"https://cdn.bokeh.org/bokeh/release/bokeh-widgets-3.7.3.min.js\", \"https://cdn.bokeh.org/bokeh/release/bokeh-tables-3.7.3.min.js\", \"https://cdn.holoviz.org/panel/1.7.1/dist/panel.min.js\"];\n  const js_modules = [];\n  const js_exports = {};\n  const css_urls = [];\n  const inline_js = [    function(Bokeh) {\n      Bokeh.set_log_level(\"info\");\n    },\nfunction(Bokeh) {} // ensure no trailing comma for IE\n  ];\n\n  function run_inline_js() {\n    if ((root.Bokeh !== undefined) || (force === true)) {\n      for (let i = 0; i < inline_js.length; i++) {\n        try {\n          inline_js[i].call(root, root.Bokeh);\n        } catch(e) {\n          if (!reloading) {\n            throw e;\n          }\n        }\n      }\n      // Cache old bokeh versions\n      if (Bokeh != undefined && !reloading) {\n        var NewBokeh = root.Bokeh;\n        if (Bokeh.versions === undefined) {\n          Bokeh.versions = new Map();\n        }\n        if (NewBokeh.version !== Bokeh.version) {\n          Bokeh.versions.set(NewBokeh.version, NewBokeh)\n        }\n        root.Bokeh = Bokeh;\n      }\n    } else if (Date.now() < root._bokeh_timeout) {\n      setTimeout(run_inline_js, 100);\n    } else if (!root._bokeh_failed_load) {\n      console.log(\"Bokeh: BokehJS failed to load within specified timeout.\");\n      root._bokeh_failed_load = true;\n    }\n    root._bokeh_is_initializing = false\n  }\n\n  function load_or_wait() {\n    // Implement a backoff loop that tries to ensure we do not load multiple\n    // versions of Bokeh and its dependencies at the same time.\n    // In recent versions we use the root._bokeh_is_initializing flag\n    // to determine whether there is an ongoing attempt to initialize\n    // bokeh, however for backward compatibility we also try to ensure\n    // that we do not start loading a newer (Panel>=1.0 and Bokeh>3) version\n    // before older versions are fully initialized.\n    if (root._bokeh_is_initializing && Date.now() > root._bokeh_timeout) {\n      // If the timeout and bokeh was not successfully loaded we reset\n      // everything and try loading again\n      root._bokeh_timeout = Date.now() + 5000;\n      root._bokeh_is_initializing = false;\n      root._bokeh_onload_callbacks = undefined;\n      root._bokeh_is_loading = 0\n      console.log(\"Bokeh: BokehJS was loaded multiple times but one version failed to initialize.\");\n      load_or_wait();\n    } else if (root._bokeh_is_initializing || (typeof root._bokeh_is_initializing === \"undefined\" && root._bokeh_onload_callbacks !== undefined)) {\n      setTimeout(load_or_wait, 100);\n    } else {\n      root._bokeh_is_initializing = true\n      root._bokeh_onload_callbacks = []\n      const bokeh_loaded = root.Bokeh != null && (root.Bokeh.version === py_version || (root.Bokeh.versions !== undefined && root.Bokeh.versions.has(py_version)));\n      if (!reloading && !bokeh_loaded) {\n        if (root.Bokeh) {\n          root.Bokeh = undefined;\n        }\n        console.debug(\"Bokeh: BokehJS not loaded, scheduling load and callback at\", now());\n      }\n      load_libs(css_urls, js_urls, js_modules, js_exports, function() {\n        console.debug(\"Bokeh: BokehJS plotting callback run at\", now());\n        run_inline_js();\n      });\n    }\n  }\n  // Give older versions of the autoload script a head-start to ensure\n  // they initialize before we start loading newer version.\n  setTimeout(load_or_wait, 100)\n}(window));",
      "application/vnd.holoviews_load.v0+json": ""
     },
     "metadata": {},
     "output_type": "display_data"
    },
    {
     "data": {
      "application/javascript": "\nif ((window.PyViz === undefined) || (window.PyViz instanceof HTMLElement)) {\n  window.PyViz = {comms: {}, comm_status:{}, kernels:{}, receivers: {}, plot_index: []}\n}\n\n\n    function JupyterCommManager() {\n    }\n\n    JupyterCommManager.prototype.register_target = function(plot_id, comm_id, msg_handler) {\n      if (window.comm_manager || ((window.Jupyter !== undefined) && (Jupyter.notebook.kernel != null))) {\n        var comm_manager = window.comm_manager || Jupyter.notebook.kernel.comm_manager;\n        comm_manager.register_target(comm_id, function(comm) {\n          comm.on_msg(msg_handler);\n        });\n      } else if ((plot_id in window.PyViz.kernels) && (window.PyViz.kernels[plot_id])) {\n        window.PyViz.kernels[plot_id].registerCommTarget(comm_id, function(comm) {\n          comm.onMsg = msg_handler;\n        });\n      } else if (typeof google != 'undefined' && google.colab.kernel != null) {\n        google.colab.kernel.comms.registerTarget(comm_id, (comm) => {\n          var messages = comm.messages[Symbol.asyncIterator]();\n          function processIteratorResult(result) {\n            var message = result.value;\n            console.log(message)\n            var content = {data: message.data, comm_id};\n            var buffers = []\n            for (var buffer of message.buffers || []) {\n              buffers.push(new DataView(buffer))\n            }\n            var metadata = message.metadata || {};\n            var msg = {content, buffers, metadata}\n            msg_handler(msg);\n            return messages.next().then(processIteratorResult);\n          }\n          return messages.next().then(processIteratorResult);\n        })\n      }\n    }\n\n    JupyterCommManager.prototype.get_client_comm = function(plot_id, comm_id, msg_handler) {\n      if (comm_id in window.PyViz.comms) {\n        return window.PyViz.comms[comm_id];\n      } else if (window.comm_manager || ((window.Jupyter !== undefined) && (Jupyter.notebook.kernel != null))) {\n        var comm_manager = window.comm_manager || Jupyter.notebook.kernel.comm_manager;\n        var comm = comm_manager.new_comm(comm_id, {}, {}, {}, comm_id);\n        if (msg_handler) {\n          comm.on_msg(msg_handler);\n        }\n      } else if ((plot_id in window.PyViz.kernels) && (window.PyViz.kernels[plot_id])) {\n        var comm = window.PyViz.kernels[plot_id].connectToComm(comm_id);\n        comm.open();\n        if (msg_handler) {\n          comm.onMsg = msg_handler;\n        }\n      } else if (typeof google != 'undefined' && google.colab.kernel != null) {\n        var comm_promise = google.colab.kernel.comms.open(comm_id)\n        comm_promise.then((comm) => {\n          window.PyViz.comms[comm_id] = comm;\n          if (msg_handler) {\n            var messages = comm.messages[Symbol.asyncIterator]();\n            function processIteratorResult(result) {\n              var message = result.value;\n              var content = {data: message.data};\n              var metadata = message.metadata || {comm_id};\n              var msg = {content, metadata}\n              msg_handler(msg);\n              return messages.next().then(processIteratorResult);\n            }\n            return messages.next().then(processIteratorResult);\n          }\n        })\n        var sendClosure = (data, metadata, buffers, disposeOnDone) => {\n          return comm_promise.then((comm) => {\n            comm.send(data, metadata, buffers, disposeOnDone);\n          });\n        };\n        var comm = {\n          send: sendClosure\n        };\n      }\n      window.PyViz.comms[comm_id] = comm;\n      return comm;\n    }\n    window.PyViz.comm_manager = new JupyterCommManager();\n    \n\n\nvar JS_MIME_TYPE = 'application/javascript';\nvar HTML_MIME_TYPE = 'text/html';\nvar EXEC_MIME_TYPE = 'application/vnd.holoviews_exec.v0+json';\nvar CLASS_NAME = 'output';\n\n/**\n * Render data to the DOM node\n */\nfunction render(props, node) {\n  var div = document.createElement(\"div\");\n  var script = document.createElement(\"script\");\n  node.appendChild(div);\n  node.appendChild(script);\n}\n\n/**\n * Handle when a new output is added\n */\nfunction handle_add_output(event, handle) {\n  var output_area = handle.output_area;\n  var output = handle.output;\n  if ((output.data == undefined) || (!output.data.hasOwnProperty(EXEC_MIME_TYPE))) {\n    return\n  }\n  var id = output.metadata[EXEC_MIME_TYPE][\"id\"];\n  var toinsert = output_area.element.find(\".\" + CLASS_NAME.split(' ')[0]);\n  if (id !== undefined) {\n    var nchildren = toinsert.length;\n    var html_node = toinsert[nchildren-1].children[0];\n    html_node.innerHTML = output.data[HTML_MIME_TYPE];\n    var scripts = [];\n    var nodelist = html_node.querySelectorAll(\"script\");\n    for (var i in nodelist) {\n      if (nodelist.hasOwnProperty(i)) {\n        scripts.push(nodelist[i])\n      }\n    }\n\n    scripts.forEach( function (oldScript) {\n      var newScript = document.createElement(\"script\");\n      var attrs = [];\n      var nodemap = oldScript.attributes;\n      for (var j in nodemap) {\n        if (nodemap.hasOwnProperty(j)) {\n          attrs.push(nodemap[j])\n        }\n      }\n      attrs.forEach(function(attr) { newScript.setAttribute(attr.name, attr.value) });\n      newScript.appendChild(document.createTextNode(oldScript.innerHTML));\n      oldScript.parentNode.replaceChild(newScript, oldScript);\n    });\n    if (JS_MIME_TYPE in output.data) {\n      toinsert[nchildren-1].children[1].textContent = output.data[JS_MIME_TYPE];\n    }\n    output_area._hv_plot_id = id;\n    if ((window.Bokeh !== undefined) && (id in Bokeh.index)) {\n      window.PyViz.plot_index[id] = Bokeh.index[id];\n    } else {\n      window.PyViz.plot_index[id] = null;\n    }\n  } else if (output.metadata[EXEC_MIME_TYPE][\"server_id\"] !== undefined) {\n    var bk_div = document.createElement(\"div\");\n    bk_div.innerHTML = output.data[HTML_MIME_TYPE];\n    var script_attrs = bk_div.children[0].attributes;\n    for (var i = 0; i < script_attrs.length; i++) {\n      toinsert[toinsert.length - 1].childNodes[1].setAttribute(script_attrs[i].name, script_attrs[i].value);\n    }\n    // store reference to server id on output_area\n    output_area._bokeh_server_id = output.metadata[EXEC_MIME_TYPE][\"server_id\"];\n  }\n}\n\n/**\n * Handle when an output is cleared or removed\n */\nfunction handle_clear_output(event, handle) {\n  var id = handle.cell.output_area._hv_plot_id;\n  var server_id = handle.cell.output_area._bokeh_server_id;\n  if (((id === undefined) || !(id in PyViz.plot_index)) && (server_id !== undefined)) { return; }\n  var comm = window.PyViz.comm_manager.get_client_comm(\"hv-extension-comm\", \"hv-extension-comm\", function () {});\n  if (server_id !== null) {\n    comm.send({event_type: 'server_delete', 'id': server_id});\n    return;\n  } else if (comm !== null) {\n    comm.send({event_type: 'delete', 'id': id});\n  }\n  delete PyViz.plot_index[id];\n  if ((window.Bokeh !== undefined) & (id in window.Bokeh.index)) {\n    var doc = window.Bokeh.index[id].model.document\n    doc.clear();\n    const i = window.Bokeh.documents.indexOf(doc);\n    if (i > -1) {\n      window.Bokeh.documents.splice(i, 1);\n    }\n  }\n}\n\n/**\n * Handle kernel restart event\n */\nfunction handle_kernel_cleanup(event, handle) {\n  delete PyViz.comms[\"hv-extension-comm\"];\n  window.PyViz.plot_index = {}\n}\n\n/**\n * Handle update_display_data messages\n */\nfunction handle_update_output(event, handle) {\n  handle_clear_output(event, {cell: {output_area: handle.output_area}})\n  handle_add_output(event, handle)\n}\n\nfunction register_renderer(events, OutputArea) {\n  function append_mime(data, metadata, element) {\n    // create a DOM node to render to\n    var toinsert = this.create_output_subarea(\n    metadata,\n    CLASS_NAME,\n    EXEC_MIME_TYPE\n    );\n    this.keyboard_manager.register_events(toinsert);\n    // Render to node\n    var props = {data: data, metadata: metadata[EXEC_MIME_TYPE]};\n    render(props, toinsert[0]);\n    element.append(toinsert);\n    return toinsert\n  }\n\n  events.on('output_added.OutputArea', handle_add_output);\n  events.on('output_updated.OutputArea', handle_update_output);\n  events.on('clear_output.CodeCell', handle_clear_output);\n  events.on('delete.Cell', handle_clear_output);\n  events.on('kernel_ready.Kernel', handle_kernel_cleanup);\n\n  OutputArea.prototype.register_mime_type(EXEC_MIME_TYPE, append_mime, {\n    safe: true,\n    index: 0\n  });\n}\n\nif (window.Jupyter !== undefined) {\n  try {\n    var events = require('base/js/events');\n    var OutputArea = require('notebook/js/outputarea').OutputArea;\n    if (OutputArea.prototype.mime_types().indexOf(EXEC_MIME_TYPE) == -1) {\n      register_renderer(events, OutputArea);\n    }\n  } catch(err) {\n  }\n}\n",
      "application/vnd.holoviews_load.v0+json": ""
     },
     "metadata": {},
     "output_type": "display_data"
    },
    {
     "data": {
      "application/vnd.holoviews_exec.v0+json": "",
      "text/html": [
       "<div id='2078a01d-a65e-42f1-ac65-cbe17c17c75f'>\n",
       "  <div id=\"f97e6a29-8fa6-4812-bb80-1858aa5d36f8\" data-root-id=\"2078a01d-a65e-42f1-ac65-cbe17c17c75f\" style=\"display: contents;\"></div>\n",
       "</div>\n",
       "<script type=\"application/javascript\">(function(root) {\n",
       "  var docs_json = {\"bb963c3a-8691-4333-8e4c-ebaff162d4ea\":{\"version\":\"3.7.3\",\"title\":\"Bokeh Application\",\"roots\":[{\"type\":\"object\",\"name\":\"panel.models.browser.BrowserInfo\",\"id\":\"2078a01d-a65e-42f1-ac65-cbe17c17c75f\"},{\"type\":\"object\",\"name\":\"panel.models.comm_manager.CommManager\",\"id\":\"8504dc54-c7b0-4b0d-9d5e-f92b71605b14\",\"attributes\":{\"plot_id\":\"2078a01d-a65e-42f1-ac65-cbe17c17c75f\",\"comm_id\":\"af4123aafb044936aace41a264451a7f\",\"client_comm_id\":\"cb8001aa3cc3424cb7af072325741acf\"}}],\"defs\":[{\"type\":\"model\",\"name\":\"ReactiveHTML1\"},{\"type\":\"model\",\"name\":\"FlexBox1\",\"properties\":[{\"name\":\"align_content\",\"kind\":\"Any\",\"default\":\"flex-start\"},{\"name\":\"align_items\",\"kind\":\"Any\",\"default\":\"flex-start\"},{\"name\":\"flex_direction\",\"kind\":\"Any\",\"default\":\"row\"},{\"name\":\"flex_wrap\",\"kind\":\"Any\",\"default\":\"wrap\"},{\"name\":\"gap\",\"kind\":\"Any\",\"default\":\"\"},{\"name\":\"justify_content\",\"kind\":\"Any\",\"default\":\"flex-start\"}]},{\"type\":\"model\",\"name\":\"FloatPanel1\",\"properties\":[{\"name\":\"config\",\"kind\":\"Any\",\"default\":{\"type\":\"map\"}},{\"name\":\"contained\",\"kind\":\"Any\",\"default\":true},{\"name\":\"position\",\"kind\":\"Any\",\"default\":\"right-top\"},{\"name\":\"offsetx\",\"kind\":\"Any\",\"default\":null},{\"name\":\"offsety\",\"kind\":\"Any\",\"default\":null},{\"name\":\"theme\",\"kind\":\"Any\",\"default\":\"primary\"},{\"name\":\"status\",\"kind\":\"Any\",\"default\":\"normalized\"}]},{\"type\":\"model\",\"name\":\"GridStack1\",\"properties\":[{\"name\":\"ncols\",\"kind\":\"Any\",\"default\":null},{\"name\":\"nrows\",\"kind\":\"Any\",\"default\":null},{\"name\":\"allow_resize\",\"kind\":\"Any\",\"default\":true},{\"name\":\"allow_drag\",\"kind\":\"Any\",\"default\":true},{\"name\":\"state\",\"kind\":\"Any\",\"default\":[]}]},{\"type\":\"model\",\"name\":\"drag1\",\"properties\":[{\"name\":\"slider_width\",\"kind\":\"Any\",\"default\":5},{\"name\":\"slider_color\",\"kind\":\"Any\",\"default\":\"black\"},{\"name\":\"value\",\"kind\":\"Any\",\"default\":50}]},{\"type\":\"model\",\"name\":\"click1\",\"properties\":[{\"name\":\"terminal_output\",\"kind\":\"Any\",\"default\":\"\"},{\"name\":\"debug_name\",\"kind\":\"Any\",\"default\":\"\"},{\"name\":\"clears\",\"kind\":\"Any\",\"default\":0}]},{\"type\":\"model\",\"name\":\"FastWrapper1\",\"properties\":[{\"name\":\"object\",\"kind\":\"Any\",\"default\":null},{\"name\":\"style\",\"kind\":\"Any\",\"default\":null}]},{\"type\":\"model\",\"name\":\"NotificationArea1\",\"properties\":[{\"name\":\"js_events\",\"kind\":\"Any\",\"default\":{\"type\":\"map\"}},{\"name\":\"max_notifications\",\"kind\":\"Any\",\"default\":5},{\"name\":\"notifications\",\"kind\":\"Any\",\"default\":[]},{\"name\":\"position\",\"kind\":\"Any\",\"default\":\"bottom-right\"},{\"name\":\"_clear\",\"kind\":\"Any\",\"default\":0},{\"name\":\"types\",\"kind\":\"Any\",\"default\":[{\"type\":\"map\",\"entries\":[[\"type\",\"warning\"],[\"background\",\"#ffc107\"],[\"icon\",{\"type\":\"map\",\"entries\":[[\"className\",\"fas fa-exclamation-triangle\"],[\"tagName\",\"i\"],[\"color\",\"white\"]]}]]},{\"type\":\"map\",\"entries\":[[\"type\",\"info\"],[\"background\",\"#007bff\"],[\"icon\",{\"type\":\"map\",\"entries\":[[\"className\",\"fas fa-info-circle\"],[\"tagName\",\"i\"],[\"color\",\"white\"]]}]]}]}]},{\"type\":\"model\",\"name\":\"Notification\",\"properties\":[{\"name\":\"background\",\"kind\":\"Any\",\"default\":null},{\"name\":\"duration\",\"kind\":\"Any\",\"default\":3000},{\"name\":\"icon\",\"kind\":\"Any\",\"default\":null},{\"name\":\"message\",\"kind\":\"Any\",\"default\":\"\"},{\"name\":\"notification_type\",\"kind\":\"Any\",\"default\":null},{\"name\":\"_rendered\",\"kind\":\"Any\",\"default\":false},{\"name\":\"_destroyed\",\"kind\":\"Any\",\"default\":false}]},{\"type\":\"model\",\"name\":\"TemplateActions1\",\"properties\":[{\"name\":\"open_modal\",\"kind\":\"Any\",\"default\":0},{\"name\":\"close_modal\",\"kind\":\"Any\",\"default\":0}]},{\"type\":\"model\",\"name\":\"BootstrapTemplateActions1\",\"properties\":[{\"name\":\"open_modal\",\"kind\":\"Any\",\"default\":0},{\"name\":\"close_modal\",\"kind\":\"Any\",\"default\":0}]},{\"type\":\"model\",\"name\":\"TemplateEditor1\",\"properties\":[{\"name\":\"layout\",\"kind\":\"Any\",\"default\":[]}]},{\"type\":\"model\",\"name\":\"MaterialTemplateActions1\",\"properties\":[{\"name\":\"open_modal\",\"kind\":\"Any\",\"default\":0},{\"name\":\"close_modal\",\"kind\":\"Any\",\"default\":0}]},{\"type\":\"model\",\"name\":\"ReactiveESM1\",\"properties\":[{\"name\":\"esm_constants\",\"kind\":\"Any\",\"default\":{\"type\":\"map\"}}]},{\"type\":\"model\",\"name\":\"JSComponent1\",\"properties\":[{\"name\":\"esm_constants\",\"kind\":\"Any\",\"default\":{\"type\":\"map\"}}]},{\"type\":\"model\",\"name\":\"ReactComponent1\",\"properties\":[{\"name\":\"esm_constants\",\"kind\":\"Any\",\"default\":{\"type\":\"map\"}}]},{\"type\":\"model\",\"name\":\"AnyWidgetComponent1\",\"properties\":[{\"name\":\"esm_constants\",\"kind\":\"Any\",\"default\":{\"type\":\"map\"}}]},{\"type\":\"model\",\"name\":\"request_value1\",\"properties\":[{\"name\":\"fill\",\"kind\":\"Any\",\"default\":\"none\"},{\"name\":\"_synced\",\"kind\":\"Any\",\"default\":null},{\"name\":\"_request_sync\",\"kind\":\"Any\",\"default\":0}]}]}};\n",
       "  var render_items = [{\"docid\":\"bb963c3a-8691-4333-8e4c-ebaff162d4ea\",\"roots\":{\"2078a01d-a65e-42f1-ac65-cbe17c17c75f\":\"f97e6a29-8fa6-4812-bb80-1858aa5d36f8\"},\"root_ids\":[\"2078a01d-a65e-42f1-ac65-cbe17c17c75f\"]}];\n",
       "  var docs = Object.values(docs_json)\n",
       "  if (!docs) {\n",
       "    return\n",
       "  }\n",
       "  const py_version = docs[0].version.replace('rc', '-rc.').replace('.dev', '-dev.')\n",
       "  async function embed_document(root) {\n",
       "    var Bokeh = get_bokeh(root)\n",
       "    await Bokeh.embed.embed_items_notebook(docs_json, render_items);\n",
       "    for (const render_item of render_items) {\n",
       "      for (const root_id of render_item.root_ids) {\n",
       "\tconst id_el = document.getElementById(root_id)\n",
       "\tif (id_el.children.length && id_el.children[0].hasAttribute('data-root-id')) {\n",
       "\t  const root_el = id_el.children[0]\n",
       "\t  root_el.id = root_el.id + '-rendered'\n",
       "\t  for (const child of root_el.children) {\n",
       "            // Ensure JupyterLab does not capture keyboard shortcuts\n",
       "            // see: https://jupyterlab.readthedocs.io/en/4.1.x/extension/notebook.html#keyboard-interaction-model\n",
       "\t    child.setAttribute('data-lm-suppress-shortcuts', 'true')\n",
       "\t  }\n",
       "\t}\n",
       "      }\n",
       "    }\n",
       "  }\n",
       "  function get_bokeh(root) {\n",
       "    if (root.Bokeh === undefined) {\n",
       "      return null\n",
       "    } else if (root.Bokeh.version !== py_version) {\n",
       "      if (root.Bokeh.versions === undefined || !root.Bokeh.versions.has(py_version)) {\n",
       "\treturn null\n",
       "      }\n",
       "      return root.Bokeh.versions.get(py_version);\n",
       "    } else if (root.Bokeh.version === py_version) {\n",
       "      return root.Bokeh\n",
       "    }\n",
       "    return null\n",
       "  }\n",
       "  function is_loaded(root) {\n",
       "    var Bokeh = get_bokeh(root)\n",
       "    return (Bokeh != null && Bokeh.Panel !== undefined)\n",
       "  }\n",
       "  if (is_loaded(root)) {\n",
       "    embed_document(root);\n",
       "  } else {\n",
       "    var attempts = 0;\n",
       "    var timer = setInterval(function(root) {\n",
       "      if (is_loaded(root)) {\n",
       "        clearInterval(timer);\n",
       "        embed_document(root);\n",
       "      } else if (document.readyState == \"complete\") {\n",
       "        attempts++;\n",
       "        if (attempts > 200) {\n",
       "          clearInterval(timer);\n",
       "\t  var Bokeh = get_bokeh(root)\n",
       "\t  if (Bokeh == null || Bokeh.Panel == null) {\n",
       "            console.warn(\"Panel: ERROR: Unable to run Panel code because Bokeh or Panel library is missing\");\n",
       "\t  } else {\n",
       "\t    console.warn(\"Panel: WARNING: Attempting to render but not all required libraries could be resolved.\")\n",
       "\t    embed_document(root)\n",
       "\t  }\n",
       "        }\n",
       "      }\n",
       "    }, 25, root)\n",
       "  }\n",
       "})(window);</script>"
      ]
     },
     "metadata": {
      "application/vnd.holoviews_exec.v0+json": {
       "id": "2078a01d-a65e-42f1-ac65-cbe17c17c75f"
      }
     },
     "output_type": "display_data"
    },
    {
     "data": {
      "application/vnd.jupyter.widget-view+json": {
       "model_id": "d2747580a0c1422dbfe0eac301756a2d",
       "version_major": 2,
       "version_minor": 0
      },
      "text/plain": [
       "BokehModel(combine_events=True, render_bundle={'docs_json': {'df2755b4-04db-4181-9199-951213d9814f': {'version…"
      ]
     },
     "execution_count": 81,
     "metadata": {},
     "output_type": "execute_result"
    }
   ],
   "source": [
    "# 中文\n",
    "import panel as pn  # GUI\n",
    "pn.extension()  # 激活 Panel 的扩展功能\n",
    "\n",
    "panels = [] # collect display \n",
    "\n",
    "context = [{'role':'system', \n",
    "            'content':\"\"\"\n",
    "你是订餐机器人，为披萨餐厅自动收集订单信息。\n",
    "你要首先问候顾客。然后等待用户回复收集订单信息。收集完信息需确认顾客是否还需要添加其他内容。\n",
    "最后需要询问是否自取或外送，如果是外送，你要询问地址。\n",
    "最后告诉顾客订单总金额，并送上祝福。\n",
    "\n",
    "请确保明确所有选项、附加项和尺寸，以便从菜单中识别出该项唯一的内容。\n",
    "你的回应应该以简短、非常随意和友好的风格呈现。\n",
    "\n",
    "菜单包括：\n",
    "\n",
    "菜品：\n",
    "意式辣香肠披萨（大、中、小） 12.95、10.00、7.00\n",
    "芝士披萨（大、中、小） 10.95、9.25、6.50\n",
    "茄子披萨（大、中、小） 11.95、9.75、6.75\n",
    "薯条（大、小） 4.50、3.50\n",
    "希腊沙拉 7.25\n",
    "\n",
    "配料：\n",
    "奶酪 2.00\n",
    "蘑菇 1.50\n",
    "香肠 3.00\n",
    "加拿大熏肉 3.50\n",
    "AI酱 1.50\n",
    "辣椒 1.00\n",
    "\n",
    "饮料：\n",
    "可乐（大、中、小） 3.00、2.00、1.00\n",
    "雪碧（大、中、小） 3.00、2.00、1.00\n",
    "瓶装水 5.00\n",
    "\"\"\"} ]  # accumulate messages\n",
    "\n",
    "# 创建一个文本输入框组件，用于用户输入消息\n",
    "inp = pn.widgets.TextInput(value=\"Hi\", placeholder='Enter text here…')\n",
    "\n",
    "# 创建一个按钮，用户点击后触发聊天逻辑\n",
    "button_conversation = pn.widgets.Button(name=\"Chat!\")\n",
    "\n",
    "# 将按钮点击事件与消息收集逻辑绑定，当按钮被点击时触发 `collect_messages` 函数\n",
    "interactive_conversation = pn.bind(collect_messages, button_conversation)\n",
    "\n",
    "# 创建仪表板（dashboard）：\n",
    "# - 第一行是文本输入框\n",
    "# - 第二行是按钮\n",
    "# - 第三行是绑定了函数的面板组件，自动更新聊天内容，带有加载指示器\n",
    "dashboard = pn.Column(\n",
    "    inp,\n",
    "    pn.Row(button_conversation),\n",
    "    pn.panel(interactive_conversation, loading_indicator=True, height=300),\n",
    ")\n",
    "\n",
    "# 渲染整个 Panel 应用\n",
    "dashboard\n"
   ]
  },
  {
   "cell_type": "code",
   "execution_count": 82,
   "metadata": {},
   "outputs": [
    {
     "name": "stdout",
     "output_type": "stream",
     "text": [
      "{\n",
      "  \"披萨\": [\n",
      "    {\n",
      "      \"类型\": \"芝士披萨\",\n",
      "      \"大小\": \"大\",\n",
      "      \"价格\": 10.95\n",
      "    }\n",
      "  ],\n",
      "  \"配料列表\": [\n",
      "    {\n",
      "      \"配料\": \"蘑菇\",\n",
      "      \"价格\": 1.50\n",
      "    }\n",
      "  ],\n",
      "  \"饮料列表\": [\n",
      "    {\n",
      "      \"名称\": \"可乐\",\n",
      "      \"大小\": \"大\",\n",
      "      \"价格\": 3.00\n",
      "    }\n",
      "  ],\n",
      "  \"配菜列表\": [\n",
      "    {\n",
      "      \"名称\": \"希腊沙拉\",\n",
      "      \"价格\": 7.25\n",
      "    }\n",
      "  ],\n",
      "  \"总价\": 22.70\n",
      "}\n"
     ]
    }
   ],
   "source": [
    "messages =  context.copy()\n",
    "messages.append(\n",
    "{'role':'system', 'content':\n",
    "'''创建上一个食品订单的 json 摘要。\\\n",
    "逐项列出每件商品的价格，字段应该是 1) 披萨，包括大小 2) 配料列表 3) 饮料列表，包括大小 4) 配菜列表包括大小 5) 总价\n",
    "你应该给我返回一个可解析的Json对象，包括上述字段'''},    \n",
    ")\n",
    "\n",
    "response = get_completion_from_messages(messages, temperature=0, stream=False)\n",
    "\n",
    "print(response)\n"
   ]
  },
  {
   "cell_type": "code",
   "execution_count": null,
   "metadata": {},
   "outputs": [],
   "source": []
  }
 ],
 "metadata": {
  "kernelspec": {
   "display_name": "Python 3",
   "language": "python",
   "name": "python3"
  },
  "language_info": {
   "codemirror_mode": {
    "name": "ipython",
    "version": 3
   },
   "file_extension": ".py",
   "mimetype": "text/x-python",
   "name": "python",
   "nbconvert_exporter": "python",
   "pygments_lexer": "ipython3",
   "version": "3.10.16"
  }
 },
 "nbformat": 4,
 "nbformat_minor": 2
}
